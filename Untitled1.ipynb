{
 "cells": [
  {
   "cell_type": "code",
   "execution_count": 1,
   "metadata": {
    "collapsed": false
   },
   "outputs": [],
   "source": [
    "#!/usr/bin/env python\n",
    "# -*- coding: utf-8 -*-\n",
    "\n",
    "import os, sys\n",
    "\n",
    "import os\n",
    "from flask import Flask, render_template, abort, url_for, session\n",
    "from flask.ext.sqlalchemy import SQLAlchemy\n",
    "from flask.ext.script import Manager, Shell\n",
    "from webapp import app, db, config_app,register_blueprints\n",
    "\n",
    "reload(sys)\n",
    "sys.setdefaultencoding('utf8')\n",
    "\n",
    "manager = Manager(app, with_default_commands=False)\n",
    "\n",
    "config_app(app, 'scriptfan.cfg')\n",
    "register_blueprints(app)\n",
    "\n",
    "ctx = app.app_context()\n",
    "ctx.push()"
   ]
  },
  {
   "cell_type": "code",
   "execution_count": 2,
   "metadata": {
    "collapsed": false
   },
   "outputs": [],
   "source": [
    "from webapp.services import data_service as dts,db_service as dbs"
   ]
  },
  {
   "cell_type": "code",
   "execution_count": 3,
   "metadata": {
    "collapsed": false
   },
   "outputs": [],
   "source": [
    "from bs4 import  BeautifulSoup,BeautifulStoneSoup\n",
    "from sqlalchemy import create_engine\n",
    "import pandas as pd\n",
    "import numpy as np\n",
    "from flask import current_app as app\n",
    "from webapp.services import db\n",
    "from webapp.models import MyStock,Stock,data_item,Comment,FinanceBasic\n",
    "import json\n",
    "from datetime import datetime\n",
    "import urllib2,re,html5lib\n",
    "from pandas.tseries.offsets import * \n",
    "from webapp import functions as fn\n",
    "from sqlalchemy import *\n"
   ]
  },
  {
   "cell_type": "code",
   "execution_count": null,
   "metadata": {
    "collapsed": false
   },
   "outputs": [],
   "source": [
    "group_stockholder_rate = pd.DataFrame()\n",
    "group_stockholder_rate is None"
   ]
  },
  {
   "cell_type": "code",
   "execution_count": null,
   "metadata": {
    "collapsed": false
   },
   "outputs": [],
   "source": [
    "code = '000910'\n",
    "#历史估值。获得每个月最后一天的总市值\n",
    "#获取交易数据\n",
    "tdf = pd.read_sql_query(\"select \"\n",
    "                        \"trade_date,close,volume,t_cap,m_cap \"\n",
    "                        \"from stock_trade_data \"\n",
    "                        \"where code=%(name)s\",\n",
    "                        db.engine, params={'name': code}).dropna(axis=0)\n",
    "i = tdf['trade_date'].map(lambda x: pd.to_datetime(x))\n",
    "tdf = tdf.set_index(i)\n",
    "gdf = tdf.groupby([pd.TimeGrouper(freq='M')])\n",
    "agdf = gdf['trade_date'].agg({'max': np.max})\n",
    "df1 = tdf.iloc[tdf.index.isin(agdf['max'])]\n",
    "tdf =df1\n",
    "df1.head(10)\n"
   ]
  },
  {
   "cell_type": "code",
   "execution_count": null,
   "metadata": {
    "collapsed": false
   },
   "outputs": [],
   "source": [
    "df = pd.read_sql_query(\n",
    "    \"select code,report_type,zyysr,zyysr_ttm,kjlr,jlr,jlr_ttm,jyjxjl,jyjxjl_ttm,xjjze,roe,gdqy \\\n",
    "    from stock_finance_data \\\n",
    "    where code=%(name)s\",\n",
    "    db.engine, params={'name': code})\n",
    "#i = df['report_type'].map(lambda x: pd.to_datetime(x))\n",
    "df3 = df.set_index('report_type')\n",
    "sdf = df3.sort_index(ascending=False)\n",
    "sdf"
   ]
  },
  {
   "cell_type": "code",
   "execution_count": null,
   "metadata": {
    "collapsed": false
   },
   "outputs": [],
   "source": [
    "t2_df = a1gdf.groupby(['code'])\n",
    "t3_df = t2_df['rate'].agg({'sh_rate': np.sum})\n",
    "t4_df = t3_df.reset_index()\n",
    "t4_df"
   ]
  },
  {
   "cell_type": "code",
   "execution_count": null,
   "metadata": {
    "collapsed": false
   },
   "outputs": [],
   "source": [
    "#获得最近报告中个人持股比例\n",
    "hdf = pd.read_sql_query(\"select code,report_date,holder_type,holder_name,rate\\\n",
    "                            from stock_holder order by report_date desc\", db.engine)\n",
    "gdf = hdf.groupby(['code']).head(10)\n",
    "a1gdf = gdf[gdf['holder_type']!='自然人股']\n",
    "a1gdf.head()"
   ]
  },
  {
   "cell_type": "code",
   "execution_count": null,
   "metadata": {
    "collapsed": false
   },
   "outputs": [],
   "source": [
    "a1gdf = gdf[gdf['holder_type']=='自然人股']\n",
    "#agdf = gdf['rate'].agg({'sum': np.sum})\n",
    "a1gdf = a1gdf.groupby(['code'])\n",
    "a2gdf = a1gdf['rate'].agg({'sum': np.sum})\n",
    "a3df = a2gdf.sort_index(by='sum',ascending=False).head(500)\n"
   ]
  },
  {
   "cell_type": "code",
   "execution_count": null,
   "metadata": {
    "collapsed": false
   },
   "outputs": [],
   "source": [
    "a1gdf = gdf[gdf['holder_type']=='自然人股']\n",
    "#agdf = gdf['rate'].agg({'sum': np.sum})\n",
    "a1gdf = a1gdf.groupby(['code'])\n",
    "a2gdf = a1gdf['rate'].agg({'size': np.size})\n",
    "a4df = a2gdf.sort_index(by='size',ascending=False).head(500)\n"
   ]
  },
  {
   "cell_type": "code",
   "execution_count": null,
   "metadata": {
    "collapsed": false
   },
   "outputs": [],
   "source": [
    "a5df = pd.concat([a3df, a4df], axis=1, join='inner')\n",
    "a5df.sort_index(by='sum',ascending=False).head(20)"
   ]
  },
  {
   "cell_type": "code",
   "execution_count": null,
   "metadata": {
    "collapsed": false
   },
   "outputs": [],
   "source": [
    "code = '000001'\n",
    "#获得每家历史个人持股情况\n",
    "hdf = pd.read_sql_query(\"select code,report_date,holder_type,rate\\\n",
    "                            from stock_holder where holder_type='自然人股' and code=%(name)s\", db.engine,params={'name': code})\n",
    "gdf = hdf.groupby(['report_date'])\n",
    "agdf = gdf['rate'].agg({'sum': np.sum})\n",
    "agdf"
   ]
  },
  {
   "cell_type": "code",
   "execution_count": 6,
   "metadata": {
    "collapsed": false
   },
   "outputs": [
    {
     "data": {
      "text/html": [
       "<div>\n",
       "<table border=\"1\" class=\"dataframe\">\n",
       "  <thead>\n",
       "    <tr style=\"text-align: right;\">\n",
       "      <th></th>\n",
       "      <th>sum</th>\n",
       "      <th>size</th>\n",
       "    </tr>\n",
       "    <tr>\n",
       "      <th>code</th>\n",
       "      <th></th>\n",
       "      <th></th>\n",
       "    </tr>\n",
       "  </thead>\n",
       "  <tbody>\n",
       "    <tr>\n",
       "      <th>000001</th>\n",
       "      <td>0.91</td>\n",
       "      <td>1</td>\n",
       "    </tr>\n",
       "    <tr>\n",
       "      <th>000004</th>\n",
       "      <td>2.63</td>\n",
       "      <td>3</td>\n",
       "    </tr>\n",
       "    <tr>\n",
       "      <th>000005</th>\n",
       "      <td>1.55</td>\n",
       "      <td>5</td>\n",
       "    </tr>\n",
       "    <tr>\n",
       "      <th>000006</th>\n",
       "      <td>2.17</td>\n",
       "      <td>4</td>\n",
       "    </tr>\n",
       "    <tr>\n",
       "      <th>000007</th>\n",
       "      <td>6.17</td>\n",
       "      <td>6</td>\n",
       "    </tr>\n",
       "    <tr>\n",
       "      <th>000008</th>\n",
       "      <td>28.19</td>\n",
       "      <td>8</td>\n",
       "    </tr>\n",
       "    <tr>\n",
       "      <th>000009</th>\n",
       "      <td>2.06</td>\n",
       "      <td>4</td>\n",
       "    </tr>\n",
       "    <tr>\n",
       "      <th>000010</th>\n",
       "      <td>2.17</td>\n",
       "      <td>6</td>\n",
       "    </tr>\n",
       "    <tr>\n",
       "      <th>000011</th>\n",
       "      <td>1.21</td>\n",
       "      <td>7</td>\n",
       "    </tr>\n",
       "    <tr>\n",
       "      <th>000014</th>\n",
       "      <td>2.79</td>\n",
       "      <td>5</td>\n",
       "    </tr>\n",
       "    <tr>\n",
       "      <th>000016</th>\n",
       "      <td>0.97</td>\n",
       "      <td>1</td>\n",
       "    </tr>\n",
       "    <tr>\n",
       "      <th>000017</th>\n",
       "      <td>2.59</td>\n",
       "      <td>4</td>\n",
       "    </tr>\n",
       "    <tr>\n",
       "      <th>000018</th>\n",
       "      <td>0.39</td>\n",
       "      <td>1</td>\n",
       "    </tr>\n",
       "    <tr>\n",
       "      <th>000019</th>\n",
       "      <td>1.81</td>\n",
       "      <td>5</td>\n",
       "    </tr>\n",
       "    <tr>\n",
       "      <th>000020</th>\n",
       "      <td>1.92</td>\n",
       "      <td>6</td>\n",
       "    </tr>\n",
       "    <tr>\n",
       "      <th>000023</th>\n",
       "      <td>2.63</td>\n",
       "      <td>3</td>\n",
       "    </tr>\n",
       "    <tr>\n",
       "      <th>000025</th>\n",
       "      <td>0.65</td>\n",
       "      <td>5</td>\n",
       "    </tr>\n",
       "    <tr>\n",
       "      <th>000026</th>\n",
       "      <td>1.06</td>\n",
       "      <td>3</td>\n",
       "    </tr>\n",
       "    <tr>\n",
       "      <th>000027</th>\n",
       "      <td>0.18</td>\n",
       "      <td>1</td>\n",
       "    </tr>\n",
       "    <tr>\n",
       "      <th>000029</th>\n",
       "      <td>0.89</td>\n",
       "      <td>5</td>\n",
       "    </tr>\n",
       "    <tr>\n",
       "      <th>000031</th>\n",
       "      <td>0.21</td>\n",
       "      <td>1</td>\n",
       "    </tr>\n",
       "    <tr>\n",
       "      <th>000032</th>\n",
       "      <td>1.71</td>\n",
       "      <td>2</td>\n",
       "    </tr>\n",
       "    <tr>\n",
       "      <th>000033</th>\n",
       "      <td>3.52</td>\n",
       "      <td>3</td>\n",
       "    </tr>\n",
       "    <tr>\n",
       "      <th>000034</th>\n",
       "      <td>0.98</td>\n",
       "      <td>3</td>\n",
       "    </tr>\n",
       "    <tr>\n",
       "      <th>000035</th>\n",
       "      <td>0.86</td>\n",
       "      <td>2</td>\n",
       "    </tr>\n",
       "    <tr>\n",
       "      <th>000036</th>\n",
       "      <td>1.39</td>\n",
       "      <td>3</td>\n",
       "    </tr>\n",
       "    <tr>\n",
       "      <th>000037</th>\n",
       "      <td>2.76</td>\n",
       "      <td>4</td>\n",
       "    </tr>\n",
       "    <tr>\n",
       "      <th>000038</th>\n",
       "      <td>0.91</td>\n",
       "      <td>3</td>\n",
       "    </tr>\n",
       "    <tr>\n",
       "      <th>000040</th>\n",
       "      <td>4.97</td>\n",
       "      <td>5</td>\n",
       "    </tr>\n",
       "    <tr>\n",
       "      <th>000042</th>\n",
       "      <td>1.85</td>\n",
       "      <td>3</td>\n",
       "    </tr>\n",
       "    <tr>\n",
       "      <th>...</th>\n",
       "      <td>...</td>\n",
       "      <td>...</td>\n",
       "    </tr>\n",
       "    <tr>\n",
       "      <th>603778</th>\n",
       "      <td>2.01</td>\n",
       "      <td>8</td>\n",
       "    </tr>\n",
       "    <tr>\n",
       "      <th>603788</th>\n",
       "      <td>0.97</td>\n",
       "      <td>3</td>\n",
       "    </tr>\n",
       "    <tr>\n",
       "      <th>603789</th>\n",
       "      <td>0.96</td>\n",
       "      <td>8</td>\n",
       "    </tr>\n",
       "    <tr>\n",
       "      <th>603799</th>\n",
       "      <td>0.52</td>\n",
       "      <td>1</td>\n",
       "    </tr>\n",
       "    <tr>\n",
       "      <th>603800</th>\n",
       "      <td>1.27</td>\n",
       "      <td>9</td>\n",
       "    </tr>\n",
       "    <tr>\n",
       "      <th>603806</th>\n",
       "      <td>0.69</td>\n",
       "      <td>4</td>\n",
       "    </tr>\n",
       "    <tr>\n",
       "      <th>603808</th>\n",
       "      <td>1.13</td>\n",
       "      <td>4</td>\n",
       "    </tr>\n",
       "    <tr>\n",
       "      <th>603818</th>\n",
       "      <td>0.98</td>\n",
       "      <td>6</td>\n",
       "    </tr>\n",
       "    <tr>\n",
       "      <th>603828</th>\n",
       "      <td>5.60</td>\n",
       "      <td>6</td>\n",
       "    </tr>\n",
       "    <tr>\n",
       "      <th>603838</th>\n",
       "      <td>1.74</td>\n",
       "      <td>9</td>\n",
       "    </tr>\n",
       "    <tr>\n",
       "      <th>603861</th>\n",
       "      <td>0.29</td>\n",
       "      <td>9</td>\n",
       "    </tr>\n",
       "    <tr>\n",
       "      <th>603866</th>\n",
       "      <td>0.32</td>\n",
       "      <td>8</td>\n",
       "    </tr>\n",
       "    <tr>\n",
       "      <th>603883</th>\n",
       "      <td>0.17</td>\n",
       "      <td>1</td>\n",
       "    </tr>\n",
       "    <tr>\n",
       "      <th>603889</th>\n",
       "      <td>11.35</td>\n",
       "      <td>9</td>\n",
       "    </tr>\n",
       "    <tr>\n",
       "      <th>603898</th>\n",
       "      <td>2.82</td>\n",
       "      <td>1</td>\n",
       "    </tr>\n",
       "    <tr>\n",
       "      <th>603899</th>\n",
       "      <td>0.28</td>\n",
       "      <td>1</td>\n",
       "    </tr>\n",
       "    <tr>\n",
       "      <th>603901</th>\n",
       "      <td>1.30</td>\n",
       "      <td>6</td>\n",
       "    </tr>\n",
       "    <tr>\n",
       "      <th>603918</th>\n",
       "      <td>0.35</td>\n",
       "      <td>2</td>\n",
       "    </tr>\n",
       "    <tr>\n",
       "      <th>603919</th>\n",
       "      <td>0.38</td>\n",
       "      <td>6</td>\n",
       "    </tr>\n",
       "    <tr>\n",
       "      <th>603936</th>\n",
       "      <td>0.75</td>\n",
       "      <td>8</td>\n",
       "    </tr>\n",
       "    <tr>\n",
       "      <th>603968</th>\n",
       "      <td>0.97</td>\n",
       "      <td>5</td>\n",
       "    </tr>\n",
       "    <tr>\n",
       "      <th>603969</th>\n",
       "      <td>1.81</td>\n",
       "      <td>6</td>\n",
       "    </tr>\n",
       "    <tr>\n",
       "      <th>603979</th>\n",
       "      <td>0.69</td>\n",
       "      <td>9</td>\n",
       "    </tr>\n",
       "    <tr>\n",
       "      <th>603988</th>\n",
       "      <td>3.17</td>\n",
       "      <td>8</td>\n",
       "    </tr>\n",
       "    <tr>\n",
       "      <th>603989</th>\n",
       "      <td>1.09</td>\n",
       "      <td>6</td>\n",
       "    </tr>\n",
       "    <tr>\n",
       "      <th>603993</th>\n",
       "      <td>0.14</td>\n",
       "      <td>2</td>\n",
       "    </tr>\n",
       "    <tr>\n",
       "      <th>603996</th>\n",
       "      <td>0.98</td>\n",
       "      <td>8</td>\n",
       "    </tr>\n",
       "    <tr>\n",
       "      <th>603997</th>\n",
       "      <td>0.95</td>\n",
       "      <td>8</td>\n",
       "    </tr>\n",
       "    <tr>\n",
       "      <th>603998</th>\n",
       "      <td>18.65</td>\n",
       "      <td>8</td>\n",
       "    </tr>\n",
       "    <tr>\n",
       "      <th>603999</th>\n",
       "      <td>0.15</td>\n",
       "      <td>1</td>\n",
       "    </tr>\n",
       "  </tbody>\n",
       "</table>\n",
       "<p>2328 rows × 2 columns</p>\n",
       "</div>"
      ],
      "text/plain": [
       "          sum  size\n",
       "code               \n",
       "000001   0.91     1\n",
       "000004   2.63     3\n",
       "000005   1.55     5\n",
       "000006   2.17     4\n",
       "000007   6.17     6\n",
       "000008  28.19     8\n",
       "000009   2.06     4\n",
       "000010   2.17     6\n",
       "000011   1.21     7\n",
       "000014   2.79     5\n",
       "000016   0.97     1\n",
       "000017   2.59     4\n",
       "000018   0.39     1\n",
       "000019   1.81     5\n",
       "000020   1.92     6\n",
       "000023   2.63     3\n",
       "000025   0.65     5\n",
       "000026   1.06     3\n",
       "000027   0.18     1\n",
       "000029   0.89     5\n",
       "000031   0.21     1\n",
       "000032   1.71     2\n",
       "000033   3.52     3\n",
       "000034   0.98     3\n",
       "000035   0.86     2\n",
       "000036   1.39     3\n",
       "000037   2.76     4\n",
       "000038   0.91     3\n",
       "000040   4.97     5\n",
       "000042   1.85     3\n",
       "...       ...   ...\n",
       "603778   2.01     8\n",
       "603788   0.97     3\n",
       "603789   0.96     8\n",
       "603799   0.52     1\n",
       "603800   1.27     9\n",
       "603806   0.69     4\n",
       "603808   1.13     4\n",
       "603818   0.98     6\n",
       "603828   5.60     6\n",
       "603838   1.74     9\n",
       "603861   0.29     9\n",
       "603866   0.32     8\n",
       "603883   0.17     1\n",
       "603889  11.35     9\n",
       "603898   2.82     1\n",
       "603899   0.28     1\n",
       "603901   1.30     6\n",
       "603918   0.35     2\n",
       "603919   0.38     6\n",
       "603936   0.75     8\n",
       "603968   0.97     5\n",
       "603969   1.81     6\n",
       "603979   0.69     9\n",
       "603988   3.17     8\n",
       "603989   1.09     6\n",
       "603993   0.14     2\n",
       "603996   0.98     8\n",
       "603997   0.95     8\n",
       "603998  18.65     8\n",
       "603999   0.15     1\n",
       "\n",
       "[2328 rows x 2 columns]"
      ]
     },
     "execution_count": 6,
     "metadata": {},
     "output_type": "execute_result"
    }
   ],
   "source": [
    "gdf = dts.getLatestStockHolder()\n",
    "agdf = gdf[gdf['holder_type'] == '自然人股']\n",
    "a1gdf = agdf.groupby(['code'])\n",
    "\n",
    "t2_gdf = a1gdf['rate'].agg({'sum': np.sum}) #比例\n",
    "t3_gdf = a1gdf['rate'].agg({'size': np.size}) #个数\n",
    "\n",
    "t4_df = pd.concat([t2_gdf, t3_gdf], axis=1, join='inner')\n",
    "\n",
    "t4_df"
   ]
  },
  {
   "cell_type": "code",
   "execution_count": 13,
   "metadata": {
    "collapsed": false
   },
   "outputs": [
    {
     "data": {
      "text/html": [
       "<div>\n",
       "<table border=\"1\" class=\"dataframe\">\n",
       "  <thead>\n",
       "    <tr style=\"text-align: right;\">\n",
       "      <th></th>\n",
       "      <th>avg</th>\n",
       "      <th>code</th>\n",
       "      <th>count</th>\n",
       "      <th>sum</th>\n",
       "    </tr>\n",
       "    <tr>\n",
       "      <th>code</th>\n",
       "      <th></th>\n",
       "      <th></th>\n",
       "      <th></th>\n",
       "      <th></th>\n",
       "    </tr>\n",
       "  </thead>\n",
       "  <tbody>\n",
       "    <tr>\n",
       "      <th>300484</th>\n",
       "      <td>0.007143</td>\n",
       "      <td>300484</td>\n",
       "      <td>7</td>\n",
       "      <td>0.05</td>\n",
       "    </tr>\n",
       "    <tr>\n",
       "      <th>600606</th>\n",
       "      <td>0.014000</td>\n",
       "      <td>600606</td>\n",
       "      <td>5</td>\n",
       "      <td>0.07</td>\n",
       "    </tr>\n",
       "    <tr>\n",
       "      <th>603355</th>\n",
       "      <td>0.032000</td>\n",
       "      <td>603355</td>\n",
       "      <td>5</td>\n",
       "      <td>0.16</td>\n",
       "    </tr>\n",
       "    <tr>\n",
       "      <th>603861</th>\n",
       "      <td>0.032222</td>\n",
       "      <td>603861</td>\n",
       "      <td>9</td>\n",
       "      <td>0.29</td>\n",
       "    </tr>\n",
       "    <tr>\n",
       "      <th>603025</th>\n",
       "      <td>0.040000</td>\n",
       "      <td>603025</td>\n",
       "      <td>5</td>\n",
       "      <td>0.20</td>\n",
       "    </tr>\n",
       "    <tr>\n",
       "      <th>601800</th>\n",
       "      <td>0.040000</td>\n",
       "      <td>601800</td>\n",
       "      <td>1</td>\n",
       "      <td>0.04</td>\n",
       "    </tr>\n",
       "    <tr>\n",
       "      <th>603866</th>\n",
       "      <td>0.040000</td>\n",
       "      <td>603866</td>\n",
       "      <td>8</td>\n",
       "      <td>0.32</td>\n",
       "    </tr>\n",
       "    <tr>\n",
       "      <th>300433</th>\n",
       "      <td>0.044000</td>\n",
       "      <td>300433</td>\n",
       "      <td>5</td>\n",
       "      <td>0.22</td>\n",
       "    </tr>\n",
       "    <tr>\n",
       "      <th>603589</th>\n",
       "      <td>0.045000</td>\n",
       "      <td>603589</td>\n",
       "      <td>4</td>\n",
       "      <td>0.18</td>\n",
       "    </tr>\n",
       "    <tr>\n",
       "      <th>600959</th>\n",
       "      <td>0.046667</td>\n",
       "      <td>600959</td>\n",
       "      <td>6</td>\n",
       "      <td>0.28</td>\n",
       "    </tr>\n",
       "  </tbody>\n",
       "</table>\n",
       "</div>"
      ],
      "text/plain": [
       "             avg    code  count   sum\n",
       "code                                 \n",
       "300484  0.007143  300484      7  0.05\n",
       "600606  0.014000  600606      5  0.07\n",
       "603355  0.032000  603355      5  0.16\n",
       "603861  0.032222  603861      9  0.29\n",
       "603025  0.040000  603025      5  0.20\n",
       "601800  0.040000  601800      1  0.04\n",
       "603866  0.040000  603866      8  0.32\n",
       "300433  0.044000  300433      5  0.22\n",
       "603589  0.045000  603589      4  0.18\n",
       "600959  0.046667  600959      6  0.28"
      ]
     },
     "execution_count": 13,
     "metadata": {},
     "output_type": "execute_result"
    }
   ],
   "source": [
    "t4_df = pd.concat([t2_gdf, t3_gdf], axis=1, join='inner')\n",
    "t41_df = pd.DataFrame({\n",
    "        'code':t4_df.index,\n",
    "        'sum':t4_df['sum'],\n",
    "        'count':t4_df['size'],\n",
    "        'avg':t4_df['sum']/t4_df['size']\n",
    "    })\n",
    "\n",
    "t5_df = t41_df.sort_index(by='avg', ascending=True).head(10)\n",
    "\n",
    "t5_df.head(10)"
   ]
  },
  {
   "cell_type": "code",
   "execution_count": 14,
   "metadata": {
    "collapsed": false
   },
   "outputs": [
    {
     "ename": "ValueError",
     "evalue": "cannot insert code, already exists",
     "output_type": "error",
     "traceback": [
      "\u001b[0;31m---------------------------------------------------------------------------\u001b[0m",
      "\u001b[0;31mValueError\u001b[0m                                Traceback (most recent call last)",
      "\u001b[0;32m<ipython-input-14-58787b0ac1bf>\u001b[0m in \u001b[0;36m<module>\u001b[0;34m()\u001b[0m\n\u001b[0;32m----> 1\u001b[0;31m \u001b[0mt6_df\u001b[0m \u001b[0;34m=\u001b[0m \u001b[0mt5_df\u001b[0m\u001b[0;34m.\u001b[0m\u001b[0mreset_index\u001b[0m\u001b[0;34m(\u001b[0m\u001b[0;34m)\u001b[0m\u001b[0;34m\u001b[0m\u001b[0m\n\u001b[0m\u001b[1;32m      2\u001b[0m \u001b[0mt6_df\u001b[0m\u001b[0;34m.\u001b[0m\u001b[0mhead\u001b[0m\u001b[0;34m(\u001b[0m\u001b[0;34m)\u001b[0m\u001b[0;34m\u001b[0m\u001b[0m\n",
      "\u001b[0;32md:\\python27\\lib\\site-packages\\pandas\\core\\frame.pyc\u001b[0m in \u001b[0;36mreset_index\u001b[0;34m(self, level, drop, inplace, col_level, col_fill)\u001b[0m\n\u001b[1;32m   2904\u001b[0m                     \u001b[0mname\u001b[0m \u001b[0;34m=\u001b[0m \u001b[0mtuple\u001b[0m\u001b[0;34m(\u001b[0m\u001b[0mname_lst\u001b[0m\u001b[0;34m)\u001b[0m\u001b[0;34m\u001b[0m\u001b[0m\n\u001b[1;32m   2905\u001b[0m             \u001b[0mvalues\u001b[0m \u001b[0;34m=\u001b[0m \u001b[0m_maybe_casted_values\u001b[0m\u001b[0;34m(\u001b[0m\u001b[0mself\u001b[0m\u001b[0;34m.\u001b[0m\u001b[0mindex\u001b[0m\u001b[0;34m)\u001b[0m\u001b[0;34m\u001b[0m\u001b[0m\n\u001b[0;32m-> 2906\u001b[0;31m             \u001b[0mnew_obj\u001b[0m\u001b[0;34m.\u001b[0m\u001b[0minsert\u001b[0m\u001b[0;34m(\u001b[0m\u001b[0;36m0\u001b[0m\u001b[0;34m,\u001b[0m \u001b[0mname\u001b[0m\u001b[0;34m,\u001b[0m \u001b[0mvalues\u001b[0m\u001b[0;34m)\u001b[0m\u001b[0;34m\u001b[0m\u001b[0m\n\u001b[0m\u001b[1;32m   2907\u001b[0m \u001b[0;34m\u001b[0m\u001b[0m\n\u001b[1;32m   2908\u001b[0m         \u001b[0mnew_obj\u001b[0m\u001b[0;34m.\u001b[0m\u001b[0mindex\u001b[0m \u001b[0;34m=\u001b[0m \u001b[0mnew_index\u001b[0m\u001b[0;34m\u001b[0m\u001b[0m\n",
      "\u001b[0;32md:\\python27\\lib\\site-packages\\pandas\\core\\frame.pyc\u001b[0m in \u001b[0;36minsert\u001b[0;34m(self, loc, column, value, allow_duplicates)\u001b[0m\n\u001b[1;32m   2390\u001b[0m         \u001b[0mvalue\u001b[0m \u001b[0;34m=\u001b[0m \u001b[0mself\u001b[0m\u001b[0;34m.\u001b[0m\u001b[0m_sanitize_column\u001b[0m\u001b[0;34m(\u001b[0m\u001b[0mcolumn\u001b[0m\u001b[0;34m,\u001b[0m \u001b[0mvalue\u001b[0m\u001b[0;34m)\u001b[0m\u001b[0;34m\u001b[0m\u001b[0m\n\u001b[1;32m   2391\u001b[0m         self._data.insert(\n\u001b[0;32m-> 2392\u001b[0;31m             loc, column, value, allow_duplicates=allow_duplicates)\n\u001b[0m\u001b[1;32m   2393\u001b[0m \u001b[0;34m\u001b[0m\u001b[0m\n\u001b[1;32m   2394\u001b[0m     \u001b[0;32mdef\u001b[0m \u001b[0massign\u001b[0m\u001b[0;34m(\u001b[0m\u001b[0mself\u001b[0m\u001b[0;34m,\u001b[0m \u001b[0;34m**\u001b[0m\u001b[0mkwargs\u001b[0m\u001b[0;34m)\u001b[0m\u001b[0;34m:\u001b[0m\u001b[0;34m\u001b[0m\u001b[0m\n",
      "\u001b[0;32md:\\python27\\lib\\site-packages\\pandas\\core\\internals.pyc\u001b[0m in \u001b[0;36minsert\u001b[0;34m(self, loc, item, value, allow_duplicates)\u001b[0m\n\u001b[1;32m   3424\u001b[0m         \u001b[0;32mif\u001b[0m \u001b[0;32mnot\u001b[0m \u001b[0mallow_duplicates\u001b[0m \u001b[0;32mand\u001b[0m \u001b[0mitem\u001b[0m \u001b[0;32min\u001b[0m \u001b[0mself\u001b[0m\u001b[0;34m.\u001b[0m\u001b[0mitems\u001b[0m\u001b[0;34m:\u001b[0m\u001b[0;34m\u001b[0m\u001b[0m\n\u001b[1;32m   3425\u001b[0m             \u001b[0;31m# Should this be a different kind of error??\u001b[0m\u001b[0;34m\u001b[0m\u001b[0;34m\u001b[0m\u001b[0m\n\u001b[0;32m-> 3426\u001b[0;31m             \u001b[0;32mraise\u001b[0m \u001b[0mValueError\u001b[0m\u001b[0;34m(\u001b[0m\u001b[0;34m'cannot insert %s, already exists'\u001b[0m \u001b[0;34m%\u001b[0m \u001b[0mitem\u001b[0m\u001b[0;34m)\u001b[0m\u001b[0;34m\u001b[0m\u001b[0m\n\u001b[0m\u001b[1;32m   3427\u001b[0m \u001b[0;34m\u001b[0m\u001b[0m\n\u001b[1;32m   3428\u001b[0m         \u001b[0;32mif\u001b[0m \u001b[0;32mnot\u001b[0m \u001b[0misinstance\u001b[0m\u001b[0;34m(\u001b[0m\u001b[0mloc\u001b[0m\u001b[0;34m,\u001b[0m \u001b[0mint\u001b[0m\u001b[0;34m)\u001b[0m\u001b[0;34m:\u001b[0m\u001b[0;34m\u001b[0m\u001b[0m\n",
      "\u001b[0;31mValueError\u001b[0m: cannot insert code, already exists"
     ]
    }
   ],
   "source": [
    "t6_df = t5_df.reset_index()\n",
    "t6_df.head()"
   ]
  },
  {
   "cell_type": "code",
   "execution_count": 5,
   "metadata": {
    "collapsed": false
   },
   "outputs": [
    {
     "data": {
      "text/html": [
       "<div>\n",
       "<table border=\"1\" class=\"dataframe\">\n",
       "  <thead>\n",
       "    <tr style=\"text-align: right;\">\n",
       "      <th></th>\n",
       "      <th>code</th>\n",
       "      <th>sum</th>\n",
       "      <th>size</th>\n",
       "      <th>id</th>\n",
       "      <th>name</th>\n",
       "      <th>zgb</th>\n",
       "      <th>ltgb</th>\n",
       "      <th>launch_date</th>\n",
       "      <th>latest_report</th>\n",
       "      <th>grow_type</th>\n",
       "      <th>desc</th>\n",
       "      <th>created_time</th>\n",
       "    </tr>\n",
       "  </thead>\n",
       "  <tbody>\n",
       "    <tr>\n",
       "      <th>0</th>\n",
       "      <td>601519</td>\n",
       "      <td>65.43</td>\n",
       "      <td>8</td>\n",
       "      <td>2653</td>\n",
       "      <td>大智慧</td>\n",
       "      <td>1987700000</td>\n",
       "      <td>1987700000</td>\n",
       "      <td>2011-01-28</td>\n",
       "      <td>2016-03-31</td>\n",
       "      <td></td>\n",
       "      <td>None</td>\n",
       "      <td>2016-07-19 22:21:24</td>\n",
       "    </tr>\n",
       "    <tr>\n",
       "      <th>1</th>\n",
       "      <td>603333</td>\n",
       "      <td>64.39</td>\n",
       "      <td>6</td>\n",
       "      <td>2790</td>\n",
       "      <td>明星电缆</td>\n",
       "      <td>520005000</td>\n",
       "      <td>520005000</td>\n",
       "      <td>2012-05-07</td>\n",
       "      <td>2016-03-31</td>\n",
       "      <td></td>\n",
       "      <td>None</td>\n",
       "      <td>2016-07-19 22:21:24</td>\n",
       "    </tr>\n",
       "    <tr>\n",
       "      <th>2</th>\n",
       "      <td>002451</td>\n",
       "      <td>62.40</td>\n",
       "      <td>7</td>\n",
       "      <td>917</td>\n",
       "      <td>摩恩电气</td>\n",
       "      <td>439200000</td>\n",
       "      <td>412202550</td>\n",
       "      <td>2010-07-20</td>\n",
       "      <td>2016-03-31</td>\n",
       "      <td></td>\n",
       "      <td>None</td>\n",
       "      <td>2016-07-19 22:20:54</td>\n",
       "    </tr>\n",
       "    <tr>\n",
       "      <th>3</th>\n",
       "      <td>300121</td>\n",
       "      <td>61.31</td>\n",
       "      <td>6</td>\n",
       "      <td>1380</td>\n",
       "      <td>阳谷华泰</td>\n",
       "      <td>289220000</td>\n",
       "      <td>269459152</td>\n",
       "      <td>2010-09-17</td>\n",
       "      <td>2016-03-31</td>\n",
       "      <td></td>\n",
       "      <td>None</td>\n",
       "      <td>2016-07-19 22:20:54</td>\n",
       "    </tr>\n",
       "    <tr>\n",
       "      <th>4</th>\n",
       "      <td>002093</td>\n",
       "      <td>58.73</td>\n",
       "      <td>8</td>\n",
       "      <td>560</td>\n",
       "      <td>国脉科技</td>\n",
       "      <td>865000000</td>\n",
       "      <td>852874858</td>\n",
       "      <td>2006-12-15</td>\n",
       "      <td>2016-03-31</td>\n",
       "      <td></td>\n",
       "      <td>None</td>\n",
       "      <td>2016-07-19 22:20:54</td>\n",
       "    </tr>\n",
       "    <tr>\n",
       "      <th>5</th>\n",
       "      <td>601799</td>\n",
       "      <td>58.64</td>\n",
       "      <td>2</td>\n",
       "      <td>2688</td>\n",
       "      <td>星宇股份</td>\n",
       "      <td>239650000</td>\n",
       "      <td>239650000</td>\n",
       "      <td>2011-02-01</td>\n",
       "      <td>2016-06-30</td>\n",
       "      <td></td>\n",
       "      <td>None</td>\n",
       "      <td>2016-07-19 22:21:24</td>\n",
       "    </tr>\n",
       "    <tr>\n",
       "      <th>6</th>\n",
       "      <td>601700</td>\n",
       "      <td>58.00</td>\n",
       "      <td>7</td>\n",
       "      <td>2679</td>\n",
       "      <td>风范股份</td>\n",
       "      <td>1133247000</td>\n",
       "      <td>1122690800</td>\n",
       "      <td>2011-01-18</td>\n",
       "      <td>2016-03-31</td>\n",
       "      <td></td>\n",
       "      <td>None</td>\n",
       "      <td>2016-07-19 22:21:24</td>\n",
       "    </tr>\n",
       "    <tr>\n",
       "      <th>7</th>\n",
       "      <td>601677</td>\n",
       "      <td>56.79</td>\n",
       "      <td>10</td>\n",
       "      <td>2674</td>\n",
       "      <td>明泰铝业</td>\n",
       "      <td>482756000</td>\n",
       "      <td>407702400</td>\n",
       "      <td>2011-09-19</td>\n",
       "      <td>2016-03-31</td>\n",
       "      <td></td>\n",
       "      <td>None</td>\n",
       "      <td>2016-07-19 22:21:24</td>\n",
       "    </tr>\n",
       "    <tr>\n",
       "      <th>8</th>\n",
       "      <td>002696</td>\n",
       "      <td>54.89</td>\n",
       "      <td>3</td>\n",
       "      <td>1161</td>\n",
       "      <td>百洋股份</td>\n",
       "      <td>176000000</td>\n",
       "      <td>103769754</td>\n",
       "      <td>2012-09-05</td>\n",
       "      <td>2016-03-31</td>\n",
       "      <td></td>\n",
       "      <td>None</td>\n",
       "      <td>2016-07-19 22:20:54</td>\n",
       "    </tr>\n",
       "    <tr>\n",
       "      <th>9</th>\n",
       "      <td>002016</td>\n",
       "      <td>54.24</td>\n",
       "      <td>4</td>\n",
       "      <td>483</td>\n",
       "      <td>世荣兆业</td>\n",
       "      <td>809095632</td>\n",
       "      <td>646095632</td>\n",
       "      <td>2004-07-08</td>\n",
       "      <td>2016-03-31</td>\n",
       "      <td></td>\n",
       "      <td>None</td>\n",
       "      <td>2016-07-19 22:20:54</td>\n",
       "    </tr>\n",
       "  </tbody>\n",
       "</table>\n",
       "</div>"
      ],
      "text/plain": [
       "     code    sum  size    id    name         zgb        ltgb launch_date  \\\n",
       "0  601519  65.43     8  2653     澶ф櫤鎱� 1987700000  1987700000  2011-01-28   \n",
       "1  603333  64.39     6  2790    鏄庢槦鐢电紗   520005000   520005000  2012-05-07   \n",
       "2  002451  62.40     7   917    鎽╂仼鐢垫皵   439200000   412202550  2010-07-20   \n",
       "3  300121  61.31     6  1380    闃宠胺鍗庢嘲   289220000   269459152  2010-09-17   \n",
       "4  002093  58.73     8   560    鍥借剦绉戞妧   865000000   852874858  2006-12-15   \n",
       "5  601799  58.64     2  2688    鏄熷畤鑲′唤   239650000   239650000  2011-02-01   \n",
       "6  601700  58.00     7  2679    椋庤寖鑲′唤  1133247000  1122690800  2011-01-18   \n",
       "7  601677  56.79    10  2674    鏄庢嘲閾濅笟   482756000   407702400  2011-09-19   \n",
       "8  002696  54.89     3  1161    鐧炬磱鑲′唤   176000000   103769754  2012-09-05   \n",
       "9  002016  54.24     4   483    涓栬崳鍏嗕笟   809095632   646095632  2004-07-08   \n",
       "\n",
       "  latest_report grow_type  desc        created_time  \n",
       "0    2016-03-31            None 2016-07-19 22:21:24  \n",
       "1    2016-03-31            None 2016-07-19 22:21:24  \n",
       "2    2016-03-31            None 2016-07-19 22:20:54  \n",
       "3    2016-03-31            None 2016-07-19 22:20:54  \n",
       "4    2016-03-31            None 2016-07-19 22:20:54  \n",
       "5    2016-06-30            None 2016-07-19 22:21:24  \n",
       "6    2016-03-31            None 2016-07-19 22:21:24  \n",
       "7    2016-03-31            None 2016-07-19 22:21:24  \n",
       "8    2016-03-31            None 2016-07-19 22:20:54  \n",
       "9    2016-03-31            None 2016-07-19 22:20:54  "
      ]
     },
     "execution_count": 5,
     "metadata": {},
     "output_type": "execute_result"
    }
   ],
   "source": [
    "t6_df = t5_df.reset_index()\n",
    "bdf = pd.read_sql_query(\"select * from stock_basic sb \",db.engine)\n",
    "t7_df = pd.merge(t6_df, bdf, on='code')\n",
    "t7_df"
   ]
  },
  {
   "cell_type": "code",
   "execution_count": null,
   "metadata": {
    "collapsed": false
   },
   "outputs": [],
   "source": [
    "\n",
    "dt = pd.to_datetime('2000-06-30')\n",
    "\n",
    "sdate = dt - DateOffset(days=1) + QuarterEnd() #返回所在日期的季度数据\n",
    "mg_val = sdf[sdf.index == sdate].get('jlr_ttm')\n",
    "mg_val.values[0]\n"
   ]
  },
  {
   "cell_type": "code",
   "execution_count": null,
   "metadata": {
    "collapsed": false
   },
   "outputs": [],
   "source": [
    "#获得开始日期\n",
    "sql = \"select max(report_type) from stock_finance_data where code=:code\";\n",
    "resultProxy = db.session.execute(text(sql), {'code': code})\n",
    "s_date = resultProxy.scalar()\n",
    "if (s_date == None):\n",
    "    s_date = dbs.getStock(code).launch_date #取上市日期\n",
    "    \n",
    "sd = df.index.max()\n",
    "ed = (s_date+ DateOffset(days=1)).date().strftime('%Y-%m-%d')\n",
    "\n",
    "df.loc[sd:ed].reset_index()"
   ]
  },
  {
   "cell_type": "code",
   "execution_count": null,
   "metadata": {
    "collapsed": false
   },
   "outputs": [],
   "source": [
    "542898*1.0/1004666"
   ]
  },
  {
   "cell_type": "code",
   "execution_count": null,
   "metadata": {
    "collapsed": true
   },
   "outputs": [],
   "source": [
    "df = pd.read_sql_query(\n",
    "    \"select code,report_type,zyysr,zyysr_ttm,kjlr,jlr,jlr_ttm,jyjxjl,jyjxjl_ttm,xjjze,roe,gdqy \\\n",
    "    from stock_finance_data \\\n",
    "    where code=%(name)s\",\n",
    "    db.engine, params={'name': code})\n",
    "i = df['report_type'].map(lambda x: pd.to_datetime(x))\n",
    "df3 = df.set_index(i)\n",
    "sdf = df3.sort_index(ascending=False)"
   ]
  },
  {
   "cell_type": "code",
   "execution_count": null,
   "metadata": {
    "collapsed": false
   },
   "outputs": [],
   "source": [
    "def getRevence(x, attri):\n",
    "    dt = x\n",
    "    sdate = dt - DateOffset(days=1) + QuarterEnd() #返回所在日期的季度数据\n",
    "    mg_val = sdf[sdf.index == sdate].get(attri)\n",
    "    \n",
    "    return pd.NaT if mg_val.empty else mg_val.values[0] * 10000\n",
    "\n",
    "\n"
   ]
  },
  {
   "cell_type": "code",
   "execution_count": null,
   "metadata": {
    "collapsed": false
   },
   "outputs": [],
   "source": [
    "tdf['trade_date']*1000\n"
   ]
  },
  {
   "cell_type": "code",
   "execution_count": null,
   "metadata": {
    "collapsed": false
   },
   "outputs": [],
   "source": [
    "df = pd.DataFrame()\n",
    "for x in periods:\n",
    "    fb = db.session.query(FinanceBasic).filter_by(code=code, report_type=x).first()\n",
    "    if (not fb):\n",
    "        fd = dts.findFinanceData(code, x)\n",
    "        if not fd.empty:\n",
    "            df = df.append(fd)\n",
    "df            "
   ]
  },
  {
   "cell_type": "code",
   "execution_count": null,
   "metadata": {
    "collapsed": false
   },
   "outputs": [],
   "source": [
    "headers = {'User-Agent':'Mozilla/5.0 (Windows; U; Windows NT 6.1; en-US; rv:1.9.1.6) Gecko/20091201 Firefox/3.5.6'}\n",
    "url = \"http://stockdata.stock.hexun.com/2008/zxcwzb.aspx?stockid=\"+code+\"&accountdate=\"+'2002.03.15'\n",
    "app.logger.info('query stock(' + code + ') finance data url is:' + url)\n",
    "req = urllib2.Request(url =url,headers = headers)\n",
    "feeddata = urllib2.urlopen(req).read()\n",
    "soup = BeautifulSoup(feeddata, \"html5lib\")\n"
   ]
  },
  {
   "cell_type": "code",
   "execution_count": null,
   "metadata": {
    "collapsed": false
   },
   "outputs": [],
   "source": [
    "#paper_name = soup.html.body.find(id=\"zaiyaocontent\").table.find_all('tr')\n",
    "paper_name = soup.html.body.find(id=\"zaiyaocontent\").table.tbody.find_all('tr')\n",
    "paper_name"
   ]
  },
  {
   "cell_type": "code",
   "execution_count": null,
   "metadata": {
    "collapsed": false
   },
   "outputs": [],
   "source": [
    "#起始日期\n",
    "code='700000'\n",
    "sql=\"select max(trade_date) from stock_trade_basic where code=:code\";\n",
    "resultProxy=db.session.execute(text(sql),{'code':code})\n",
    "mdate = resultProxy.scalar()\n",
    "if (mdate==None):\n",
    "    mdate = datetime(2000, 1, 1)\n",
    "mdate.year"
   ]
  },
  {
   "cell_type": "code",
   "execution_count": null,
   "metadata": {
    "collapsed": false
   },
   "outputs": [],
   "source": [
    "#结束日期。当前日期上月最后一天\n",
    "#sdate = datetime.now() - DateOffset(days=1)\n",
    "sdate = datetime.now() - MonthEnd()\n",
    "sdate"
   ]
  },
  {
   "cell_type": "code",
   "execution_count": null,
   "metadata": {
    "collapsed": false
   },
   "outputs": [],
   "source": [
    "code = 'sz000966'\n",
    "df = dbs.getStockValuationN(code[2:],3)\n",
    "df"
   ]
  },
  {
   "cell_type": "code",
   "execution_count": null,
   "metadata": {
    "collapsed": false
   },
   "outputs": [],
   "source": [
    "flag = '1'\n",
    "df = pd.read_sql_query(\"select code,name,market from my_stocks where flag=%(flag)s\", db.engine, \\\n",
    "                           index_col='code', params={'flag': flag})\n",
    "df1 = dbs.getPerStockPrice(df)\n",
    "df2 = dbs.getPerStockRevenue()\n",
    "df3 = pd.concat([df1,df2],axis=1,join='inner')\n",
    "df = df.reset_index()\n",
    "df4 = pd.merge(df,df3,how='left')\n",
    "df4\n"
   ]
  },
  {
   "cell_type": "code",
   "execution_count": null,
   "metadata": {
    "collapsed": false
   },
   "outputs": [],
   "source": [
    "df = pd.read_sql_query(\"select * from my_stocks where flag=%(flag)s\", db.engine, \\\n",
    "                           index_col='code', params={'flag': flag})"
   ]
  },
  {
   "cell_type": "code",
   "execution_count": null,
   "metadata": {
    "collapsed": false
   },
   "outputs": [],
   "source": [
    "df2\n",
    "  "
   ]
  },
  {
   "cell_type": "code",
   "execution_count": null,
   "metadata": {
    "collapsed": false
   },
   "outputs": [],
   "source": [
    "index = pd.date_range('2000-1-1', datetime.today(), freq='Q')\n",
    "periods = [x.strftime('%Y.%m.%d') for x in index]\n",
    "\n",
    "df = pd.DataFrame()\n",
    "for x in periods:\n",
    "    fb = db.session.query(FinanceBasic).filter_by(code=code,report_type=x).first()\n",
    "    if(not fb):\n",
    "        fd = dts.findFinanceData(code, x)\n",
    "        if not fd.empty:\n",
    "            df = df.append(fd)\n",
    "\n",
    "\n",
    "\n",
    "if df.size > 0:\n",
    "    df.columns = ['code', 'report_type', 'yysr', 'jlr', 'lrze', 'kjlr', 'zzc', 'gdqy', 'jyjxjl', 'mgsy', 'roe',\n",
    "                  'mgjyxjl', 'mgjzc']\n",
    "    tpd = pd.DataFrame({\n",
    "            'mgsy_ttm':'',\n",
    "            'mgjyxjl_ttm':''\n",
    "        },index=df.index)\n",
    "\n",
    "    df1 = pd.concat([df,tpd],axis=1)\n",
    "\n",
    "    df1.size\n",
    "\n",
    "    #df = calculateTTMValue(df,code)\n",
    "\n",
    "df2 = dts.calculateTTMValue(df1,code)\n",
    "df2"
   ]
  },
  {
   "cell_type": "code",
   "execution_count": null,
   "metadata": {
    "collapsed": false
   },
   "outputs": [],
   "source": [
    "code = '000418'\n",
    "df = dbs.get_revenue_df(code)\n",
    "df"
   ]
  },
  {
   "cell_type": "code",
   "execution_count": null,
   "metadata": {
    "collapsed": false
   },
   "outputs": [],
   "source": [
    "tdate = df.index[df.index.quarter==4]\n",
    "df4 = df.iloc[df.index.isin(tdate)]\n",
    "df4"
   ]
  },
  {
   "cell_type": "code",
   "execution_count": null,
   "metadata": {
    "collapsed": false
   },
   "outputs": [],
   "source": [
    "df4.to_json(orient=\"records\")"
   ]
  },
  {
   "cell_type": "code",
   "execution_count": null,
   "metadata": {
    "collapsed": false
   },
   "outputs": [],
   "source": [
    "code = '000910'\n",
    "yysr = [] #营业收入\n",
    "jlr = [] #净利润\n",
    "jyjxjl = [] #经营性净现金流\n",
    "gdqy = [] #股东权益\n",
    "df = dbs.get_year_stock_revenue(code)\n",
    "for index, row in df.iterrows():\n",
    "    yysr.append(fn.get_data_array(row['report_type'],row['yysr']))\n",
    "    jlr.append(fn.get_data_array(row['report_type'],row['kjlr']))\n",
    "    jyjxjl.append(fn.get_data_array(row['report_type'],row['jyjxjl']))\n",
    "    gdqy.append(fn.get_data_array(row['report_type'],row['gdqy']))\n",
    "df \n"
   ]
  },
  {
   "cell_type": "code",
   "execution_count": null,
   "metadata": {
    "collapsed": false
   },
   "outputs": [],
   "source": [
    "#获得最近5年的时间\n",
    "latest_date = df3.iat[0,1]\n",
    "now = pd.to_datetime(latest_date)\n",
    "#最近\n",
    "in_df_date = pd.date_range(end=now.strftime('%Y-%m-%d'), periods=4, freq='Q')\n",
    "df1 = df3.iloc[df3.index.isin(in_df_date)]\n",
    "#去年同期\n",
    "now = now - DateOffset(months=12)\n",
    "in_df_date = pd.date_range(end=now.strftime('%Y-%m-%d'), periods=4, freq='Q')\n",
    "df2 = df3.iloc[df3.index.isin(in_df_date)]\n",
    "#前年同期\n",
    "now = now - DateOffset(months=12)\n",
    "in_df_date = pd.date_range(end=now.strftime('%Y-%m-%d'), periods=4, freq='Q')\n",
    "df4 = df3.iloc[df3.index.isin(in_df_date)]\n"
   ]
  },
  {
   "cell_type": "code",
   "execution_count": null,
   "metadata": {
    "collapsed": false
   },
   "outputs": [],
   "source": [
    "abc='[]'\n",
    "import json\n",
    "json.loads(abc)\n"
   ]
  },
  {
   "cell_type": "code",
   "execution_count": null,
   "metadata": {
    "collapsed": false
   },
   "outputs": [],
   "source": [
    "df2"
   ]
  },
  {
   "cell_type": "code",
   "execution_count": null,
   "metadata": {
    "collapsed": false
   },
   "outputs": [],
   "source": [
    "df4"
   ]
  },
  {
   "cell_type": "code",
   "execution_count": null,
   "metadata": {
    "collapsed": false
   },
   "outputs": [],
   "source": [
    "import time,datetime\n",
    "# date to str\n",
    "#time.strftime(\"%Y-%m-%d\", datetime.date(1972, 10, 16))\n",
    "datetime.date(1972, 10, 16).strftime(\"%Y-%m-%d\")"
   ]
  },
  {
   "cell_type": "code",
   "execution_count": null,
   "metadata": {
    "collapsed": false
   },
   "outputs": [],
   "source": [
    "df3"
   ]
  },
  {
   "cell_type": "code",
   "execution_count": null,
   "metadata": {
    "collapsed": false
   },
   "outputs": [],
   "source": [
    "code='000418'\n",
    "period='2005.01.31'\n",
    "\n",
    "#url = \"http://stockdata.stock.hexun.com/2008/zxcwzb.aspx?stockid=\"+code+\"&accountdate=\"+period\n",
    "url = \"http://stockdata.stock.hexun.com/2008/zxcwzb.aspx?stockid=000418&accountdate=2015.09.30\"\n",
    "req = urllib2.Request(url =url,headers = dts.headers)\n",
    "feeddata = urllib2.urlopen(req).read()\n",
    "#soup = BeautifulSoup(feeddata, \"lxml\")\n",
    "#paper_name = soup.html.body.find(id=\"zaiyaocontent\").table.find_all('tr')\n",
    "#paper_name"
   ]
  },
  {
   "cell_type": "code",
   "execution_count": null,
   "metadata": {
    "collapsed": false
   },
   "outputs": [],
   "source": [
    "#计算期望日期\n",
    "#对应的季度\n",
    "ts = pd.to_datetime('20130117')\n",
    "q = 4-ts.quarter\n",
    "\n",
    "if ts.month < 12:\n",
    "    y = ts.year -1\n",
    "\n",
    "month = q*3\n",
    "year = ts.year\n",
    "ts\n",
    "#"
   ]
  },
  {
   "cell_type": "code",
   "execution_count": null,
   "metadata": {
    "collapsed": false
   },
   "outputs": [],
   "source": [
    "from datetime import datetime\n",
    "ts2 = datetime(ts.year-1,ts.month,ts.day)\n",
    "pd.to_datetime(ts2)"
   ]
  },
  {
   "cell_type": "code",
   "execution_count": null,
   "metadata": {
    "collapsed": true
   },
   "outputs": [],
   "source": [
    "from werkzeug.contrib.cache import SimpleCache\n",
    "cache = SimpleCache()"
   ]
  },
  {
   "cell_type": "code",
   "execution_count": null,
   "metadata": {
    "collapsed": false
   },
   "outputs": [],
   "source": [
    "url = \"http://stockdata.stock.hexun.com/000418.shtml\"\n",
    "req = urllib2.Request(url =url)\n",
    "urllib2.urlopen(req).read()\n",
    "req"
   ]
  },
  {
   "cell_type": "code",
   "execution_count": null,
   "metadata": {
    "collapsed": false
   },
   "outputs": [],
   "source": [
    "import urllib \n",
    "def url_proxies():\n",
    "    proxylist = (  '211.167.112.14:80',  '210.32.34.115:8080',  '115.47.8.39:80',  '211.151.181.41:80',  '219.239.26.23:80',  )\n",
    "    for proxy in proxylist:  \n",
    "        proxies = {'': proxy}  \n",
    "        opener = urllib.FancyURLopener(proxies)  \n",
    "        f = opener.open(\"http://www.dianping.com/shanghai\")  \n",
    "        f.read()"
   ]
  },
  {
   "cell_type": "code",
   "execution_count": null,
   "metadata": {
    "collapsed": false
   },
   "outputs": [],
   "source": [
    "import urllib2\n",
    "proxy_support = urllib2.ProxyHandler({'http':'http://210.32.34.115:8080'})\n",
    "opener = urllib2.build_opener(proxy_support, urllib2.HTTPHandler)\n",
    "urllib2.install_opener(opener)\n",
    "content = urllib2.urlopen('http://stockdata.stock.hexun.com/000418.shtml').read()\n",
    "content"
   ]
  },
  {
   "cell_type": "code",
   "execution_count": null,
   "metadata": {
    "collapsed": false
   },
   "outputs": [],
   "source": [
    "req = urllib2.Request(url =url,headers = dts.headers)\n",
    "#feeddata = urllib2.urlopen(req).read()"
   ]
  },
  {
   "cell_type": "code",
   "execution_count": null,
   "metadata": {
    "collapsed": false
   },
   "outputs": [],
   "source": [
    "b"
   ]
  },
  {
   "cell_type": "code",
   "execution_count": null,
   "metadata": {
    "collapsed": false
   },
   "outputs": [],
   "source": []
  },
  {
   "cell_type": "code",
   "execution_count": null,
   "metadata": {
    "collapsed": false
   },
   "outputs": [],
   "source": [
    "b.year"
   ]
  },
  {
   "cell_type": "code",
   "execution_count": null,
   "metadata": {
    "collapsed": false
   },
   "outputs": [],
   "source": [
    "b.is_year_end"
   ]
  },
  {
   "cell_type": "code",
   "execution_count": null,
   "metadata": {
    "collapsed": false
   },
   "outputs": [],
   "source": [
    "str = 'sh600309,sh600660'\n",
    "url = \"http://hq.sinajs.cn/list=\" + str\n",
    "req = urllib2.Request(url)\n",
    "res_data = urllib2.urlopen(req).read()\n",
    "\n"
   ]
  },
  {
   "cell_type": "code",
   "execution_count": null,
   "metadata": {
    "collapsed": false
   },
   "outputs": [],
   "source": [
    "res_data"
   ]
  },
  {
   "cell_type": "code",
   "execution_count": null,
   "metadata": {
    "collapsed": false
   },
   "outputs": [],
   "source": [
    "st_valus = []\n",
    "q_st_codes = ['sh600309','sh600660']\n",
    "st_codes = []\n",
    "for st in q_st_codes:\n",
    "    regex = r'var hq_str_' + st + '=\"(.*)\".*'\n",
    "    match = re.search(regex, res_data, re.M).group(1)\n",
    "    trade_data = match.split(',')\n",
    "    st_valus.append(round(float(trade_data[3]), 2))\n",
    "    st_codes.append(st[2:])\n",
    "ps = pd.DataFrame(st_valus,index=st_codes)  \n",
    "ps\n"
   ]
  },
  {
   "cell_type": "code",
   "execution_count": null,
   "metadata": {
    "collapsed": false
   },
   "outputs": [],
   "source": [
    "df = pd.read_sql_query(\"select code,report_type,mgsy_ttm,mgjzc,mgjyxjl_ttm from stock_finance_basic\", db.engine)\n",
    "i = df['report_type'].map(lambda x: pd.to_datetime(x))\n",
    "df = df.set_index(i)\n",
    "df = df.sort_index(ascending=False)\n",
    "\n",
    "df = df.groupby([df['code']]).first()\n",
    "df = df.reset_index()\n",
    "df.set_index(df['code'])"
   ]
  },
  {
   "cell_type": "code",
   "execution_count": null,
   "metadata": {
    "collapsed": false
   },
   "outputs": [],
   "source": [
    "df = pd.read_excel('http://www.szse.cn/szseWeb/ShowReport.szse?SHOWTYPE=xlsx&CATALOGID=1110&tab2PAGENUM=1&ENCODE=1&TABKEY=tab2')\n",
    "#ps = pd.Series('600000')\n",
    "df"
   ]
  },
  {
   "cell_type": "code",
   "execution_count": null,
   "metadata": {
    "collapsed": false
   },
   "outputs": [],
   "source": [
    "df = pd.read_excel('SZ_A.xlsx')\n",
    "df.head(2)"
   ]
  },
  {
   "cell_type": "code",
   "execution_count": null,
   "metadata": {
    "collapsed": false
   },
   "outputs": [],
   "source": [
    "df = pd.read_excel('SZ_A.xlsx')\n",
    "#ps = pd.Series('600000')\n",
    "df1 = pd.DataFrame({\n",
    "        'code':df.iloc[:,5].apply(lambda x: \"%06d\"%x),\n",
    "        'name':df.iloc[:,6],\n",
    "        'launch_date':df.iloc[:,7],\n",
    "        'zgb':df.iloc[:,8].apply(lambda x: x.replace(',','')),\n",
    "        'ltgb':df.iloc[:,9].apply(lambda x: x.replace(',',''))\n",
    "    })\n",
    "df1.head(2)\n",
    "df1.to_sql('stock_basic', db.engine, if_exists='append', index=False, chunksize=1000)"
   ]
  },
  {
   "cell_type": "code",
   "execution_count": null,
   "metadata": {
    "collapsed": false
   },
   "outputs": [],
   "source": [
    "df = pd.read_excel('SH_A.xlsx')\n",
    "#ps = pd.Series('600000')\n",
    "df2 = pd.DataFrame({\n",
    "        'code':df.iloc[:,2].apply(lambda x: \"%06d\"%x),\n",
    "        'name':df.iloc[:,3],\n",
    "        'launch_date':df.iloc[:,4],\n",
    "        'zgb':df.iloc[:,5].apply(lambda x: x*10000),\n",
    "        'ltgb':df.iloc[:,6].apply(lambda x: x*10000)\n",
    "    })\n",
    "df2.head(2)\n",
    "df2.to_sql('stock_basic', db.engine, if_exists='append', index=False, chunksize=1000)"
   ]
  },
  {
   "cell_type": "code",
   "execution_count": null,
   "metadata": {
    "collapsed": false,
    "scrolled": true
   },
   "outputs": [],
   "source": [
    "headers = {'User-Agent':'Mozilla/5.0 (Windows; U; Windows NT 6.1; en-US; rv:1.9.1.6) Gecko/20091201 Firefox/3.5.6'}\n",
    "\n",
    "code = '000563'\n",
    "    \n",
    "period = re.sub('03.31', '03.15', '2016.03.31')\n",
    "url = \"http://vip.stock.finance.sina.com.cn/corp/go.php/vCI_CirculateStockHolder/stockid/\"+code+\".phtml\"\n",
    "req = urllib2.Request(url =url,headers = headers)\n",
    "feeddata = urllib2.urlopen(req).read()\n",
    "soup = BeautifulSoup(feeddata, \"html5lib\")\n",
    "#feeddata\n",
    "paper_name = soup.html.body.find(id=\"CirculateShareholderTable\").tbody.find_all('tr')\n"
   ]
  },
  {
   "cell_type": "code",
   "execution_count": null,
   "metadata": {
    "collapsed": false
   },
   "outputs": [],
   "source": [
    "report_date=[]\n",
    "holder_name=[]\n",
    "amount=[]\n",
    "rate=[]\n",
    "holder_type=[]\n",
    "holder_parent=[]\n",
    "rdate = ''\n",
    "for e in paper_name:\n",
    "    t = e.find_all('td')\n",
    "    s = e.find_all('strong')\n",
    "    if len(s) > 0 :\n",
    "        if s[0].string=='截止日期':\n",
    "            rdate = t[1].string\n",
    "            print rdate\n",
    "            \n",
    "    if t[0].div:\n",
    "        if t[0].div.string:\n",
    "            if t[0].div.string.isdigit():\n",
    "                hname = t[1].div.text\n",
    "                print t[0].div.text+':'+hname\n",
    "        \n",
    "            "
   ]
  },
  {
   "cell_type": "code",
   "execution_count": null,
   "metadata": {
    "collapsed": false,
    "scrolled": true
   },
   "outputs": [],
   "source": [
    "df1 = pd.DataFrame({\n",
    "        'code':code,\n",
    "        'report_date':report_date,\n",
    "        'holder_name':holder_name,\n",
    "        'amount':amount,\n",
    "        'rate':rate,\n",
    "        'holder_type':holder_type,\n",
    "        'holder_parent':holder_parent\n",
    "        \n",
    "    })\n",
    "df1.to_sql('stock_holder', db.engine, if_exists='append', index=False, chunksize=1000)\n",
    "df1"
   ]
  },
  {
   "cell_type": "code",
   "execution_count": null,
   "metadata": {
    "collapsed": false
   },
   "outputs": [],
   "source": [
    "#st = db.session.query(Stock).filter(Stock.code = code).first()\n",
    "\n",
    "db.session.query(Stock).filter(Stock.latest_report < '2016-03-31').all()\n",
    "\n",
    "#st = db.session.query(Stock).filter(Stock.latest_report < report_type).all()"
   ]
  },
  {
   "cell_type": "code",
   "execution_count": null,
   "metadata": {
    "collapsed": false
   },
   "outputs": [],
   "source": [
    "#参考证券法，年报数据在次年4月底前，1季度报在4月28号前，半年报在8月31号前，3季度报在10月30号前\n",
    "#更新后更新报告日期，更新数据时提供报告类型，剔除已经获得公告数据的股票\n",
    "\n",
    "sql = \"select max(report_date) from stock_holder where code=:code\";\n",
    "resultProxy = db.session.execute(text(sql), {'code': code})\n",
    "s_date = resultProxy.scalar()\n",
    "if (s_date == None):\n",
    "    \n",
    "#旧股，通过网络检索比较。如有最新数据则更新。\n",
    "#最新数据如果和已有数据相等，说明未更新，直接跳过；否则，用最新的一期数据更新。暂未实现\n"
   ]
  },
  {
   "cell_type": "code",
   "execution_count": null,
   "metadata": {
    "collapsed": false
   },
   "outputs": [],
   "source": [
    "pow(10,3)"
   ]
  },
  {
   "cell_type": "code",
   "execution_count": null,
   "metadata": {
    "collapsed": false
   },
   "outputs": [],
   "source": [
    "pow(1000,1.0/3)\n"
   ]
  },
  {
   "cell_type": "code",
   "execution_count": null,
   "metadata": {
    "collapsed": true
   },
   "outputs": [],
   "source": [
    "#比如,三年利润复合增长率=[(年末利润总额/三年前年末利润总额）^1/3 -1)] x100% \n",
    "#实例：某公司04年净利2万元，07年净利16万元，则04-07年的复合增长为16/2 ，然后再开3次方根，再减1，再乘100％。” "
   ]
  }
 ],
 "metadata": {
  "kernelspec": {
   "display_name": "Python 2",
   "language": "python",
   "name": "python2"
  },
  "language_info": {
   "codemirror_mode": {
    "name": "ipython",
    "version": 2
   },
   "file_extension": ".py",
   "mimetype": "text/x-python",
   "name": "python",
   "nbconvert_exporter": "python",
   "pygments_lexer": "ipython2",
   "version": "2.7.12"
  }
 },
 "nbformat": 4,
 "nbformat_minor": 0
}
