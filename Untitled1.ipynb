{
 "cells": [
  {
   "cell_type": "code",
   "execution_count": 1,
   "metadata": {
    "collapsed": false
   },
   "outputs": [],
   "source": [
    "#!/usr/bin/env python\n",
    "# -*- coding: utf-8 -*-\n",
    "\n",
    "import os, sys\n",
    "\n",
    "import os\n",
    "from flask import Flask, render_template, abort, url_for, session\n",
    "from flask.ext.sqlalchemy import SQLAlchemy\n",
    "from flask.ext.script import Manager, Shell\n",
    "from webapp import app, db, config_app,register_blueprints\n",
    "\n",
    "reload(sys)\n",
    "sys.setdefaultencoding('utf8')\n",
    "\n",
    "manager = Manager(app, with_default_commands=False)\n",
    "\n",
    "config_app(app, 'scriptfan.cfg')\n",
    "register_blueprints(app)\n",
    "\n",
    "ctx = app.app_context()\n",
    "ctx.push()"
   ]
  },
  {
   "cell_type": "code",
   "execution_count": 2,
   "metadata": {
    "collapsed": false
   },
   "outputs": [],
   "source": [
    "from webapp.services import data_service as dts,db_service as dbs"
   ]
  },
  {
   "cell_type": "code",
   "execution_count": 3,
   "metadata": {
    "collapsed": false
   },
   "outputs": [],
   "source": [
    "from bs4 import  BeautifulSoup,BeautifulStoneSoup\n",
    "from sqlalchemy import create_engine\n",
    "import pandas as pd\n",
    "import numpy as np\n",
    "from flask import current_app as app\n",
    "from webapp.services import db\n",
    "from webapp.models import MyStock,Stock,data_item,Comment,FinanceBasic\n",
    "import json\n",
    "from datetime import datetime\n",
    "import urllib2,re,html5lib\n",
    "from pandas.tseries.offsets import * \n",
    "from webapp import functions as fn\n",
    "from sqlalchemy import *\n"
   ]
  },
  {
   "cell_type": "code",
   "execution_count": 4,
   "metadata": {
    "collapsed": false
   },
   "outputs": [
    {
     "data": {
      "text/plain": [
       "u'2016.03.31'"
      ]
     },
     "execution_count": 4,
     "metadata": {},
     "output_type": "execute_result"
    }
   ],
   "source": [
    "code = '000418'\n",
    "sql = \"select max(report_type) from stock_finance_basic where code=:code\";\n",
    "resultProxy = db.session.execute(text(sql), {'code': code})\n",
    "s_date = resultProxy.scalar()\n",
    "if (s_date == None):\n",
    "        s_date = '2000.01.01'\n",
    "        \n",
    "s_date"
   ]
  },
  {
   "cell_type": "code",
   "execution_count": null,
   "metadata": {
    "collapsed": false
   },
   "outputs": [],
   "source": [
    "code = '000418'\n",
    "#开始时间。 数据库的最大时间或者2000.1.1\n",
    "\n",
    "#结束时间\n",
    "#datetime.today()\n",
    "\n",
    "df = pd.read_csv('http://ichart.yahoo.com/table.csv?s='+code+'.SZ&a=05&b=01&c=2016&d=06&e=30&f=2016&g=m')\n",
    "#ps = pd.Series('600000')\n",
    "df\n"
   ]
  },
  {
   "cell_type": "code",
   "execution_count": null,
   "metadata": {
    "collapsed": false
   },
   "outputs": [],
   "source": [
    "sql = \"select max(trade_date) from stock_trade_basic where code=:code\";\n",
    "resultProxy = db.session.execute(text(sql), {'code': code})\n",
    "s_date = resultProxy.scalar()\n",
    "s_date"
   ]
  },
  {
   "cell_type": "code",
   "execution_count": null,
   "metadata": {
    "collapsed": false
   },
   "outputs": [],
   "source": [
    "e_date = (datetime.now() - MonthEnd()).date()"
   ]
  },
  {
   "cell_type": "code",
   "execution_count": null,
   "metadata": {
    "collapsed": false
   },
   "outputs": [],
   "source": [
    "s_date = pd.to_datetime('2000-01-01').date()\n",
    "a=(e_date-s_date).days\n",
    "a"
   ]
  },
  {
   "cell_type": "code",
   "execution_count": null,
   "metadata": {
    "collapsed": false
   },
   "outputs": [],
   "source": [
    "def getRevence(x,attri):\n",
    "    dt = pd.to_datetime(x)\n",
    "    sdate = dt + QuarterEnd()\n",
    "    mgsy = sdf[sdf.index==sdate].get(attri)\n",
    "    if(len(mgsy.values)==0): #如果没数值，取上一季度\n",
    "        sdate = dt - QuarterEnd()\n",
    "        print sdate\n",
    "        mgsy = sdf[sdf.index==sdate].get(attri)\n",
    "        #如果缺少值或者为0\n",
    "        if(len(mgsy.values)==0):\n",
    "            mgsy = pd.Series([100]) #作为坏数据沉没\n",
    "    return mgsy.values[0]\n",
    "\n",
    "def getReportType(x):\n",
    "    dt = pd.to_datetime(x)\n",
    "    sdate = dt + QuarterEnd()\n",
    "    return sdate\n",
    "\n",
    "df1 = pd.DataFrame({\n",
    "        'trade_date':df['Date'],\n",
    "        'close':df['Close'],\n",
    "        'volume':df['Volume'],\n",
    "        'adj_close':df['Adj Close'],\n",
    "        'report_type':df['Date'].apply(getReportType),\n",
    "        'mgsy':df['Date'].apply(getRevence,args=('mgsy_ttm',)),\n",
    "        'mgjzc':df['Date'].apply(getRevence,args=('mgjzc',)),\n",
    "        'mgjyxjl':df['Date'].apply(getRevence,args=('mgjyxjl_ttm',)),\n",
    "        'code':code\n",
    "    })\n",
    "df1.set_index('trade_date')"
   ]
  },
  {
   "cell_type": "code",
   "execution_count": null,
   "metadata": {
    "collapsed": false
   },
   "outputs": [],
   "source": [
    "#sdf.index[(sdf.index.year=='2010') & (sdf.index.month=='1')]\n",
    "dt = pd.to_datetime('2015-12-31')\n",
    "sdate = dt + QuarterEnd()\n",
    "abc = \n",
    "abc\n"
   ]
  },
  {
   "cell_type": "code",
   "execution_count": 5,
   "metadata": {
    "collapsed": false
   },
   "outputs": [],
   "source": [
    "code = '000525'\n",
    "sql = \"select max(report_type) from stock_finance_basic where code=:code\";\n",
    "resultProxy = db.session.execute(text(sql), {'code': code})\n",
    "s_date = resultProxy.scalar()\n",
    "if (s_date == None):\n",
    "    s_date = '2000.01.01' #获得2000年以来的所有会计年度\n",
    "\n",
    "index = pd.date_range(s_date, datetime.today(), freq='Q')\n",
    "periods = [x.strftime('%Y.%m.%d') for x in index]\n",
    "periods = periods[8:9]\n"
   ]
  },
  {
   "cell_type": "code",
   "execution_count": 6,
   "metadata": {
    "collapsed": false
   },
   "outputs": [
    {
     "data": {
      "text/html": [
       "<div>\n",
       "<table border=\"1\" class=\"dataframe\">\n",
       "  <thead>\n",
       "    <tr style=\"text-align: right;\">\n",
       "      <th></th>\n",
       "    </tr>\n",
       "  </thead>\n",
       "  <tbody>\n",
       "  </tbody>\n",
       "</table>\n",
       "</div>"
      ],
      "text/plain": [
       "Empty DataFrame\n",
       "Columns: []\n",
       "Index: []"
      ]
     },
     "execution_count": 6,
     "metadata": {},
     "output_type": "execute_result"
    }
   ],
   "source": [
    "df = pd.DataFrame()\n",
    "for x in periods:\n",
    "    fb = db.session.query(FinanceBasic).filter_by(code=code, report_type=x).first()\n",
    "    if (not fb):\n",
    "        fd = dts.findFinanceData(code, x)\n",
    "        if not fd.empty:\n",
    "            df = df.append(fd)\n",
    "df            "
   ]
  },
  {
   "cell_type": "code",
   "execution_count": 8,
   "metadata": {
    "collapsed": false
   },
   "outputs": [],
   "source": [
    "headers = {'User-Agent':'Mozilla/5.0 (Windows; U; Windows NT 6.1; en-US; rv:1.9.1.6) Gecko/20091201 Firefox/3.5.6'}\n",
    "url = \"http://stockdata.stock.hexun.com/2008/zxcwzb.aspx?stockid=\"+code+\"&accountdate=\"+'2002.03.15'\n",
    "app.logger.info('query stock(' + code + ') finance data url is:' + url)\n",
    "req = urllib2.Request(url =url,headers = headers)\n",
    "feeddata = urllib2.urlopen(req).read()\n",
    "soup = BeautifulSoup(feeddata, \"html5lib\")\n"
   ]
  },
  {
   "cell_type": "code",
   "execution_count": 13,
   "metadata": {
    "collapsed": false
   },
   "outputs": [
    {
     "data": {
      "text/plain": [
       "[<tr><td class=\"dotborder\" width=\"45%\"><div class=\"tishi\"><strong>\\u4f1a\\u8ba1\\u5e74\\u5ea6</strong></div></td><td><div class=\"tishi\"></div></td></tr>,\n",
       " <tr><td class=\"dotborder\" width=\"45%\"><div class=\"tishi\"><strong>\\u8425\\u4e1a\\u6536\\u5165</strong></div></td><td><div class=\"tishi\">59,557,285.41</div></td></tr>,\n",
       " <tr><td class=\"dotborder\" width=\"45%\"><div class=\"tishi\"><strong>\\u51c0\\u5229\\u6da6\\uff08\\u5143)</strong></div></td><td><div class=\"tishi\">5,748,527.31</div></td></tr>,\n",
       " <tr><td class=\"dotborder\" width=\"45%\"><div class=\"tishi\"><strong>\\u5229\\u6da6\\u603b\\u989d\\uff08\\u5143)</strong></div></td><td><div class=\"tishi\">8,590,765.75</div></td></tr>,\n",
       " <tr><td class=\"dotborder\" width=\"45%\"><div class=\"tishi\"><strong>\\u6263\\u9664\\u975e\\u7ecf\\u5e38\\u6027\\u635f\\u76ca\\u540e\\u7684\\u51c0\\u5229\\u6da6\\uff08\\u5143)</strong></div></td><td><div class=\"tishi\">--</div></td></tr>,\n",
       " <tr><td class=\"dotborder\" width=\"45%\"><div class=\"tishi\"><strong>\\u603b\\u8d44\\u4ea7\\uff08\\u5143)</strong></div></td><td><div class=\"tishi\">1,026,894,573.92</div></td></tr>,\n",
       " <tr><td class=\"dotborder\" width=\"45%\"><div class=\"tishi\"><strong>\\u80a1\\u4e1c\\u6743\\u76ca\\uff08\\u5143)</strong></div></td><td><div class=\"tishi\">489,037,613.44</div></td></tr>,\n",
       " <tr><td class=\"dotborder\" width=\"45%\"><div class=\"tishi\"><strong>\\u7ecf\\u8425\\u6d3b\\u52a8\\u4ea7\\u751f\\u7684\\u73b0\\u91d1\\u6d41\\u91cf\\u51c0\\u989d\\uff08\\u5143)</strong></div></td><td><div class=\"tishi\">--</div></td></tr>,\n",
       " <tr><td class=\"dotborder\" width=\"45%\"><div class=\"tishi\"><strong>\\u57fa\\u672c\\u6bcf\\u80a1\\u6536\\u76ca\\uff08\\u5143)</strong></div></td><td><div class=\"tishi\">0.02</div></td></tr>,\n",
       " <tr><td class=\"dotborder\" width=\"45%\"><div class=\"tishi\"><strong>\\u51c0\\u8d44\\u4ea7\\u6536\\u76ca\\u7387\\uff08\\u644a\\u8584)(%)</strong></div></td><td><div class=\"tishi\">1.18</div></td></tr>,\n",
       " <tr><td class=\"dotborder\" width=\"45%\"><div class=\"tishi\"><strong>\\u6bcf\\u80a1\\u7ecf\\u8425\\u6d3b\\u52a8\\u4ea7\\u751f\\u7684\\u73b0\\u91d1\\u6d41\\u91cf\\u51c0\\u989d\\uff08\\u5143)</strong></div></td><td><div class=\"tishi\">--</div></td></tr>,\n",
       " <tr><td class=\"dotborder\" width=\"45%\"><div class=\"tishi\"><strong>\\u6bcf\\u80a1\\u51c0\\u8d44\\u4ea7\\uff08\\u5143)</strong></div></td><td><div class=\"tishi\">1.74</div></td></tr>,\n",
       " <tr><td class=\"dotborder\" width=\"45%\"><div class=\"tishi\"><strong>\\u8c03\\u6574\\u540e\\u6bcf\\u80a1\\u51c0\\u8d44\\u4ea7\\uff08\\u5143)</strong></div></td><td><div class=\"tishi\">--</div></td></tr>,\n",
       " <tr><td class=\"dotborder\" width=\"45%\"><div class=\"tishi\"><strong>\\u5883\\u5916\\u4f1a\\u8ba1\\u51c6\\u5219\\u51c0\\u5229\\u6da6\\uff08\\u5143)</strong></div></td><td><div class=\"tishi\">--</div></td></tr>,\n",
       " <tr><td class=\"dotborder\" width=\"45%\"><div class=\"tishi\"><strong>\\u6263\\u9664\\u975e\\u7ecf\\u5e38\\u6027\\u635f\\u76ca\\u540e\\u7684\\u6bcf\\u80a1\\u6536\\u76ca(\\u5143)</strong></div></td><td><div class=\"tishi\">--</div></td></tr>,\n",
       " <tr><td class=\"dotborder\" width=\"45%\"><div class=\"tishi\"><strong>\\u62a5\\u544a\\u8d77\\u59cb\\u65f6\\u95f4</strong></div></td><td><div class=\"tishi\">2002-01-01</div></td></tr>,\n",
       " <tr><td class=\"dotborder\" width=\"45%\"><div class=\"tishi\"><strong>\\u62a5\\u544a\\u7ec8\\u6b62\\u65f6\\u95f4</strong></div></td><td><div class=\"tishi\">2002-03-31</div></td>\\n\\t\\t\\t\\t</tr>]"
      ]
     },
     "execution_count": 13,
     "metadata": {},
     "output_type": "execute_result"
    }
   ],
   "source": [
    "#paper_name = soup.html.body.find(id=\"zaiyaocontent\").table.find_all('tr')\n",
    "paper_name = soup.html.body.find(id=\"zaiyaocontent\").table.tbody.find_all('tr')\n",
    "paper_name"
   ]
  },
  {
   "cell_type": "code",
   "execution_count": null,
   "metadata": {
    "collapsed": false
   },
   "outputs": [],
   "source": [
    "#起始日期\n",
    "code='700000'\n",
    "sql=\"select max(trade_date) from stock_trade_basic where code=:code\";\n",
    "resultProxy=db.session.execute(text(sql),{'code':code})\n",
    "mdate = resultProxy.scalar()\n",
    "if (mdate==None):\n",
    "    mdate = datetime(2000, 1, 1)\n",
    "mdate.year"
   ]
  },
  {
   "cell_type": "code",
   "execution_count": null,
   "metadata": {
    "collapsed": false
   },
   "outputs": [],
   "source": [
    "#结束日期。当前日期上月最后一天\n",
    "#sdate = datetime.now() - DateOffset(days=1)\n",
    "sdate = datetime.now() - MonthEnd()\n",
    "sdate"
   ]
  },
  {
   "cell_type": "code",
   "execution_count": null,
   "metadata": {
    "collapsed": false
   },
   "outputs": [],
   "source": [
    "sdate = MonthEnd().rollback(datetime.now())\n",
    "\n",
    "#\"%02d\" % sdate.month\n",
    "\n",
    "\n",
    "sdate.strftime(\"%y\")"
   ]
  },
  {
   "cell_type": "code",
   "execution_count": null,
   "metadata": {
    "collapsed": false
   },
   "outputs": [],
   "source": [
    "flag = '1'\n",
    "df = pd.read_sql_query(\"select code,name,market from my_stocks where flag=%(flag)s\", db.engine, \\\n",
    "                           index_col='code', params={'flag': flag})\n",
    "df1 = dbs.getPerStockPrice(df)\n",
    "df2 = dbs.getPerStockRevenue()\n",
    "df3 = pd.concat([df1,df2],axis=1,join='inner')\n",
    "df = df.reset_index()\n",
    "df4 = pd.merge(df,df3,how='left')\n",
    "df4\n"
   ]
  },
  {
   "cell_type": "code",
   "execution_count": null,
   "metadata": {
    "collapsed": false
   },
   "outputs": [],
   "source": [
    "df = pd.read_sql_query(\"select * from my_stocks where flag=%(flag)s\", db.engine, \\\n",
    "                           index_col='code', params={'flag': flag})"
   ]
  },
  {
   "cell_type": "code",
   "execution_count": null,
   "metadata": {
    "collapsed": false
   },
   "outputs": [],
   "source": [
    "df2\n",
    "  "
   ]
  },
  {
   "cell_type": "code",
   "execution_count": null,
   "metadata": {
    "collapsed": false
   },
   "outputs": [],
   "source": [
    "index = pd.date_range('2000-1-1', datetime.today(), freq='Q')\n",
    "periods = [x.strftime('%Y.%m.%d') for x in index]\n",
    "\n",
    "df = pd.DataFrame()\n",
    "for x in periods:\n",
    "    fb = db.session.query(FinanceBasic).filter_by(code=code,report_type=x).first()\n",
    "    if(not fb):\n",
    "        fd = dts.findFinanceData(code, x)\n",
    "        if not fd.empty:\n",
    "            df = df.append(fd)\n",
    "\n",
    "\n",
    "\n",
    "if df.size > 0:\n",
    "    df.columns = ['code', 'report_type', 'yysr', 'jlr', 'lrze', 'kjlr', 'zzc', 'gdqy', 'jyjxjl', 'mgsy', 'roe',\n",
    "                  'mgjyxjl', 'mgjzc']\n",
    "    tpd = pd.DataFrame({\n",
    "            'mgsy_ttm':'',\n",
    "            'mgjyxjl_ttm':''\n",
    "        },index=df.index)\n",
    "\n",
    "    df1 = pd.concat([df,tpd],axis=1)\n",
    "\n",
    "    df1.size\n",
    "\n",
    "    #df = calculateTTMValue(df,code)\n",
    "\n",
    "df2 = dts.calculateTTMValue(df1,code)\n",
    "df2"
   ]
  },
  {
   "cell_type": "code",
   "execution_count": null,
   "metadata": {
    "collapsed": false
   },
   "outputs": [],
   "source": [
    "code = '000418'\n",
    "df = dbs.get_revenue_df(code)\n",
    "df"
   ]
  },
  {
   "cell_type": "code",
   "execution_count": null,
   "metadata": {
    "collapsed": false
   },
   "outputs": [],
   "source": [
    "tdate = df.index[df.index.quarter==4]\n",
    "df4 = df.iloc[df.index.isin(tdate)]\n",
    "df4"
   ]
  },
  {
   "cell_type": "code",
   "execution_count": null,
   "metadata": {
    "collapsed": false
   },
   "outputs": [],
   "source": [
    "df4.to_json(orient=\"records\")"
   ]
  },
  {
   "cell_type": "code",
   "execution_count": null,
   "metadata": {
    "collapsed": false
   },
   "outputs": [],
   "source": [
    "code = '000910'\n",
    "yysr = [] #营业收入\n",
    "jlr = [] #净利润\n",
    "jyjxjl = [] #经营性净现金流\n",
    "gdqy = [] #股东权益\n",
    "df = dbs.get_year_stock_revenue(code)\n",
    "for index, row in df.iterrows():\n",
    "    yysr.append(fn.get_data_array(row['report_type'],row['yysr']))\n",
    "    jlr.append(fn.get_data_array(row['report_type'],row['kjlr']))\n",
    "    jyjxjl.append(fn.get_data_array(row['report_type'],row['jyjxjl']))\n",
    "    gdqy.append(fn.get_data_array(row['report_type'],row['gdqy']))\n",
    "df \n"
   ]
  },
  {
   "cell_type": "code",
   "execution_count": null,
   "metadata": {
    "collapsed": false
   },
   "outputs": [],
   "source": [
    "#获得最近5年的时间\n",
    "latest_date = df3.iat[0,1]\n",
    "now = pd.to_datetime(latest_date)\n",
    "#最近\n",
    "in_df_date = pd.date_range(end=now.strftime('%Y-%m-%d'), periods=4, freq='Q')\n",
    "df1 = df3.iloc[df3.index.isin(in_df_date)]\n",
    "#去年同期\n",
    "now = now - DateOffset(months=12)\n",
    "in_df_date = pd.date_range(end=now.strftime('%Y-%m-%d'), periods=4, freq='Q')\n",
    "df2 = df3.iloc[df3.index.isin(in_df_date)]\n",
    "#前年同期\n",
    "now = now - DateOffset(months=12)\n",
    "in_df_date = pd.date_range(end=now.strftime('%Y-%m-%d'), periods=4, freq='Q')\n",
    "df4 = df3.iloc[df3.index.isin(in_df_date)]\n"
   ]
  },
  {
   "cell_type": "code",
   "execution_count": null,
   "metadata": {
    "collapsed": false
   },
   "outputs": [],
   "source": [
    "abc='[]'\n",
    "import json\n",
    "json.loads(abc)\n"
   ]
  },
  {
   "cell_type": "code",
   "execution_count": null,
   "metadata": {
    "collapsed": false
   },
   "outputs": [],
   "source": [
    "df2"
   ]
  },
  {
   "cell_type": "code",
   "execution_count": null,
   "metadata": {
    "collapsed": false
   },
   "outputs": [],
   "source": [
    "df4"
   ]
  },
  {
   "cell_type": "code",
   "execution_count": null,
   "metadata": {
    "collapsed": false
   },
   "outputs": [],
   "source": [
    "import time,datetime\n",
    "# date to str\n",
    "#time.strftime(\"%Y-%m-%d\", datetime.date(1972, 10, 16))\n",
    "datetime.date(1972, 10, 16).strftime(\"%Y-%m-%d\")"
   ]
  },
  {
   "cell_type": "code",
   "execution_count": null,
   "metadata": {
    "collapsed": false
   },
   "outputs": [],
   "source": [
    "df3"
   ]
  },
  {
   "cell_type": "code",
   "execution_count": null,
   "metadata": {
    "collapsed": false
   },
   "outputs": [],
   "source": [
    "code='000418'\n",
    "period='2005.01.31'\n",
    "\n",
    "#url = \"http://stockdata.stock.hexun.com/2008/zxcwzb.aspx?stockid=\"+code+\"&accountdate=\"+period\n",
    "url = \"http://stockdata.stock.hexun.com/2008/zxcwzb.aspx?stockid=000418&accountdate=2015.09.30\"\n",
    "req = urllib2.Request(url =url,headers = dts.headers)\n",
    "feeddata = urllib2.urlopen(req).read()\n",
    "#soup = BeautifulSoup(feeddata, \"lxml\")\n",
    "#paper_name = soup.html.body.find(id=\"zaiyaocontent\").table.find_all('tr')\n",
    "#paper_name"
   ]
  },
  {
   "cell_type": "code",
   "execution_count": null,
   "metadata": {
    "collapsed": false
   },
   "outputs": [],
   "source": [
    "#计算期望日期\n",
    "#对应的季度\n",
    "ts = pd.to_datetime('20130117')\n",
    "q = 4-ts.quarter\n",
    "\n",
    "if ts.month < 12:\n",
    "    y = ts.year -1\n",
    "\n",
    "month = q*3\n",
    "year = ts.year\n",
    "ts\n",
    "#"
   ]
  },
  {
   "cell_type": "code",
   "execution_count": null,
   "metadata": {
    "collapsed": false
   },
   "outputs": [],
   "source": [
    "from datetime import datetime\n",
    "ts2 = datetime(ts.year-1,ts.month,ts.day)\n",
    "pd.to_datetime(ts2)"
   ]
  },
  {
   "cell_type": "code",
   "execution_count": null,
   "metadata": {
    "collapsed": true
   },
   "outputs": [],
   "source": [
    "from werkzeug.contrib.cache import SimpleCache\n",
    "cache = SimpleCache()"
   ]
  },
  {
   "cell_type": "code",
   "execution_count": null,
   "metadata": {
    "collapsed": false
   },
   "outputs": [],
   "source": [
    "url = \"http://stockdata.stock.hexun.com/000418.shtml\"\n",
    "req = urllib2.Request(url =url)\n",
    "urllib2.urlopen(req).read()\n",
    "req"
   ]
  },
  {
   "cell_type": "code",
   "execution_count": null,
   "metadata": {
    "collapsed": false
   },
   "outputs": [],
   "source": [
    "import urllib \n",
    "def url_proxies():\n",
    "    proxylist = (  '211.167.112.14:80',  '210.32.34.115:8080',  '115.47.8.39:80',  '211.151.181.41:80',  '219.239.26.23:80',  )\n",
    "    for proxy in proxylist:  \n",
    "        proxies = {'': proxy}  \n",
    "        opener = urllib.FancyURLopener(proxies)  \n",
    "        f = opener.open(\"http://www.dianping.com/shanghai\")  \n",
    "        f.read()"
   ]
  },
  {
   "cell_type": "code",
   "execution_count": null,
   "metadata": {
    "collapsed": false
   },
   "outputs": [],
   "source": [
    "import urllib2\n",
    "proxy_support = urllib2.ProxyHandler({'http':'http://210.32.34.115:8080'})\n",
    "opener = urllib2.build_opener(proxy_support, urllib2.HTTPHandler)\n",
    "urllib2.install_opener(opener)\n",
    "content = urllib2.urlopen('http://stockdata.stock.hexun.com/000418.shtml').read()\n",
    "content"
   ]
  },
  {
   "cell_type": "code",
   "execution_count": null,
   "metadata": {
    "collapsed": false
   },
   "outputs": [],
   "source": [
    "req = urllib2.Request(url =url,headers = dts.headers)\n",
    "#feeddata = urllib2.urlopen(req).read()"
   ]
  },
  {
   "cell_type": "code",
   "execution_count": null,
   "metadata": {
    "collapsed": false
   },
   "outputs": [],
   "source": [
    "b"
   ]
  },
  {
   "cell_type": "code",
   "execution_count": null,
   "metadata": {
    "collapsed": false
   },
   "outputs": [],
   "source": []
  },
  {
   "cell_type": "code",
   "execution_count": null,
   "metadata": {
    "collapsed": false
   },
   "outputs": [],
   "source": [
    "b.year"
   ]
  },
  {
   "cell_type": "code",
   "execution_count": null,
   "metadata": {
    "collapsed": false
   },
   "outputs": [],
   "source": [
    "b.is_year_end"
   ]
  },
  {
   "cell_type": "code",
   "execution_count": null,
   "metadata": {
    "collapsed": false
   },
   "outputs": [],
   "source": [
    "str = 'sh600309,sh600660'\n",
    "url = \"http://hq.sinajs.cn/list=\" + str\n",
    "req = urllib2.Request(url)\n",
    "res_data = urllib2.urlopen(req).read()\n",
    "\n"
   ]
  },
  {
   "cell_type": "code",
   "execution_count": null,
   "metadata": {
    "collapsed": false
   },
   "outputs": [],
   "source": [
    "res_data"
   ]
  },
  {
   "cell_type": "code",
   "execution_count": null,
   "metadata": {
    "collapsed": false
   },
   "outputs": [],
   "source": [
    "st_valus = []\n",
    "q_st_codes = ['sh600309','sh600660']\n",
    "st_codes = []\n",
    "for st in q_st_codes:\n",
    "    regex = r'var hq_str_' + st + '=\"(.*)\".*'\n",
    "    match = re.search(regex, res_data, re.M).group(1)\n",
    "    trade_data = match.split(',')\n",
    "    st_valus.append(round(float(trade_data[3]), 2))\n",
    "    st_codes.append(st[2:])\n",
    "ps = pd.DataFrame(st_valus,index=st_codes)  \n",
    "ps\n"
   ]
  },
  {
   "cell_type": "code",
   "execution_count": null,
   "metadata": {
    "collapsed": false
   },
   "outputs": [],
   "source": [
    "df = pd.read_sql_query(\"select code,report_type,mgsy_ttm,mgjzc,mgjyxjl_ttm from stock_finance_basic\", db.engine)\n",
    "i = df['report_type'].map(lambda x: pd.to_datetime(x))\n",
    "df = df.set_index(i)\n",
    "df = df.sort_index(ascending=False)\n",
    "\n",
    "df = df.groupby([df['code']]).first()\n",
    "df = df.reset_index()\n",
    "df.set_index(df['code'])"
   ]
  },
  {
   "cell_type": "code",
   "execution_count": null,
   "metadata": {
    "collapsed": false
   },
   "outputs": [],
   "source": [
    "df = pd.read_excel('http://www.szse.cn/szseWeb/ShowReport.szse?SHOWTYPE=xlsx&CATALOGID=1110&tab2PAGENUM=1&ENCODE=1&TABKEY=tab2')\n",
    "#ps = pd.Series('600000')\n",
    "df"
   ]
  },
  {
   "cell_type": "code",
   "execution_count": null,
   "metadata": {
    "collapsed": false
   },
   "outputs": [],
   "source": [
    "df = pd.read_excel('SZ_A.xlsx')\n",
    "df.head(2)"
   ]
  },
  {
   "cell_type": "code",
   "execution_count": null,
   "metadata": {
    "collapsed": false
   },
   "outputs": [],
   "source": [
    "df = pd.read_excel('SZ_A.xlsx')\n",
    "#ps = pd.Series('600000')\n",
    "df1 = pd.DataFrame({\n",
    "        'code':df.iloc[:,5].apply(lambda x: \"%06d\"%x),\n",
    "        'name':df.iloc[:,6],\n",
    "        'launch_date':df.iloc[:,7],\n",
    "        'zgb':df.iloc[:,8].apply(lambda x: x.replace(',','')),\n",
    "        'ltgb':df.iloc[:,9].apply(lambda x: x.replace(',',''))\n",
    "    })\n",
    "df1.head(2)\n",
    "df1.to_sql('stock_basic', db.engine, if_exists='append', index=False, chunksize=1000)"
   ]
  },
  {
   "cell_type": "code",
   "execution_count": null,
   "metadata": {
    "collapsed": false
   },
   "outputs": [],
   "source": [
    "df = pd.read_excel('SH_A.xlsx')\n",
    "#ps = pd.Series('600000')\n",
    "df2 = pd.DataFrame({\n",
    "        'code':df.iloc[:,2].apply(lambda x: \"%06d\"%x),\n",
    "        'name':df.iloc[:,3],\n",
    "        'launch_date':df.iloc[:,4],\n",
    "        'zgb':df.iloc[:,5].apply(lambda x: x*10000),\n",
    "        'ltgb':df.iloc[:,6].apply(lambda x: x*10000)\n",
    "    })\n",
    "df2.head(2)\n",
    "df2.to_sql('stock_basic', db.engine, if_exists='append', index=False, chunksize=1000)"
   ]
  },
  {
   "cell_type": "code",
   "execution_count": null,
   "metadata": {
    "collapsed": false,
    "scrolled": true
   },
   "outputs": [],
   "source": [
    "headers = {'User-Agent':'Mozilla/5.0 (Windows; U; Windows NT 6.1; en-US; rv:1.9.1.6) Gecko/20091201 Firefox/3.5.6'}\n",
    "\n",
    "code = '000563'\n",
    "    \n",
    "period = re.sub('03.31', '03.15', '2016.03.31')\n",
    "url = \"http://vip.stock.finance.sina.com.cn/corp/go.php/vCI_CirculateStockHolder/stockid/\"+code+\".phtml\"\n",
    "req = urllib2.Request(url =url,headers = headers)\n",
    "feeddata = urllib2.urlopen(req).read()\n",
    "soup = BeautifulSoup(feeddata, \"html5lib\")\n",
    "#feeddata\n",
    "paper_name = soup.html.body.find(id=\"CirculateShareholderTable\").tbody.find_all('tr')\n"
   ]
  },
  {
   "cell_type": "code",
   "execution_count": null,
   "metadata": {
    "collapsed": false
   },
   "outputs": [],
   "source": [
    "report_date=[]\n",
    "holder_name=[]\n",
    "amount=[]\n",
    "rate=[]\n",
    "holder_type=[]\n",
    "holder_parent=[]\n",
    "rdate = ''\n",
    "for e in paper_name:\n",
    "    t = e.find_all('td')\n",
    "    s = e.find_all('strong')\n",
    "    if len(s) > 0 :\n",
    "        if s[0].string=='截止日期':\n",
    "            rdate = t[1].string\n",
    "            print rdate\n",
    "            \n",
    "    if t[0].div:\n",
    "        if t[0].div.string:\n",
    "            if t[0].div.string.isdigit():\n",
    "                hname = t[1].div.text\n",
    "                print t[0].div.text+':'+hname\n",
    "        \n",
    "            "
   ]
  },
  {
   "cell_type": "code",
   "execution_count": null,
   "metadata": {
    "collapsed": false,
    "scrolled": true
   },
   "outputs": [],
   "source": [
    "df1 = pd.DataFrame({\n",
    "        'code':code,\n",
    "        'report_date':report_date,\n",
    "        'holder_name':holder_name,\n",
    "        'amount':amount,\n",
    "        'rate':rate,\n",
    "        'holder_type':holder_type,\n",
    "        'holder_parent':holder_parent\n",
    "        \n",
    "    })\n",
    "df1.to_sql('stock_holder', db.engine, if_exists='append', index=False, chunksize=1000)\n",
    "df1"
   ]
  },
  {
   "cell_type": "code",
   "execution_count": null,
   "metadata": {
    "collapsed": false
   },
   "outputs": [],
   "source": [
    "#st = db.session.query(Stock).filter(Stock.code = code).first()\n",
    "\n",
    "db.session.query(Stock).filter(Stock.latest_report < '2016-03-31').all()\n",
    "\n",
    "#st = db.session.query(Stock).filter(Stock.latest_report < report_type).all()"
   ]
  },
  {
   "cell_type": "code",
   "execution_count": null,
   "metadata": {
    "collapsed": false
   },
   "outputs": [],
   "source": [
    "#参考证券法，年报数据在次年4月底前，1季度报在4月28号前，半年报在8月31号前，3季度报在10月30号前\n",
    "#更新后更新报告日期，更新数据时提供报告类型，剔除已经获得公告数据的股票\n",
    "\n",
    "sql = \"select max(report_date) from stock_holder where code=:code\";\n",
    "resultProxy = db.session.execute(text(sql), {'code': code})\n",
    "s_date = resultProxy.scalar()\n",
    "if (s_date == None):\n",
    "    \n",
    "#旧股，通过网络检索比较。如有最新数据则更新。\n",
    "#最新数据如果和已有数据相等，说明未更新，直接跳过；否则，用最新的一期数据更新。暂未实现\n"
   ]
  },
  {
   "cell_type": "code",
   "execution_count": null,
   "metadata": {
    "collapsed": true
   },
   "outputs": [],
   "source": []
  }
 ],
 "metadata": {
  "kernelspec": {
   "display_name": "Python 2",
   "language": "python",
   "name": "python2"
  },
  "language_info": {
   "codemirror_mode": {
    "name": "ipython",
    "version": 2
   },
   "file_extension": ".py",
   "mimetype": "text/x-python",
   "name": "python",
   "nbconvert_exporter": "python",
   "pygments_lexer": "ipython2",
   "version": "2.7.12"
  }
 },
 "nbformat": 4,
 "nbformat_minor": 0
}
